{
 "cells": [
  {
   "cell_type": "markdown",
   "metadata": {},
   "source": [
    "<h1 align=\"center\">Images</h1>\n",
    "\n",
    "<table width=\"100%\">\n",
    "<tr style=\"background-color: red;\"><td><font color=\"white\">SimpleITK conventions:</font></td></tr>\n",
    "<tr><td>\n",
    "<ul>\n",
    "<li>Image access is in x,y,z order, image.GetPixel(x,y,z) or image[x,y,z], with zero based indexing.</li>\n",
    "<li>If the output of an ITK filter has non-zero starting index, then the index will be set to 0, and the origin adjusted accordingly.</li>\n",
    "</ul>\n",
    "</td></tr>\n",
    "</table>\n",
    "\n",
    "SimpleITK（源自ITK）作为图像处理和分析工具包的独特功能是将图像视为占据物理空间中有界区域的物理对象。 另外，图像沿每个轴的像素之间可以具有不同的间隔，并且轴不一定是正交的。 下图说明了这些概念。\n",
    "\n",
    "<img src=\"ImageOriginAndSpacing.png\" style=\"width:700px\"/><br><br>\n",
    "\n",
    "\n",
    "### Pixel Types\n",
    "\n",
    "像素类型表示为枚举类型。 以下是枚举列表的表。\n",
    "\n",
    "<table>\n",
    "  <tr><td>sitkUInt8</td><td>Unsigned 8 bit integer</td></tr>\n",
    "  <tr><td>sitkInt8</td><td>Signed 8 bit integer</td></tr>\n",
    "  <tr><td>sitkUInt16</td><td>Unsigned 16 bit integer</td></tr>\n",
    "  <tr><td>sitkInt16</td><td>Signed 16 bit integer</td></tr>\n",
    "  <tr><td>sitkUInt32</td><td>Unsigned 32 bit integer</td></tr>\n",
    "  <tr><td>sitkInt32</td><td>Signed 32 bit integer</td></tr>\n",
    "  <tr><td>sitkUInt64</td><td>Unsigned 64 bit integer</td></tr>\n",
    "  <tr><td>sitkInt64</td><td>Signed 64 bit integer</td></tr>\n",
    "  <tr><td>sitkFloat32</td><td>32 bit float</td></tr>\n",
    "  <tr><td>sitkFloat64</td><td>64 bit float</td></tr>\n",
    "  <tr><td>sitkComplexFloat32</td><td>complex number of 32 bit float</td></tr>\n",
    "  <tr><td>sitkComplexFloat64</td><td>complex number of 64 bit float</td></tr>\n",
    "  <tr><td>sitkVectorUInt8</td><td>Multi-component of unsigned 8 bit integer</td></tr>\n",
    "  <tr><td>sitkVectorInt8</td><td>Multi-component of signed 8 bit integer</td></tr>\n",
    "  <tr><td>sitkVectorUInt16</td><td>Multi-component of unsigned 16 bit integer</td></tr>\n",
    "  <tr><td>sitkVectorInt16</td><td>Multi-component of signed 16 bit integer</td></tr>\n",
    "  <tr><td>sitkVectorUInt32</td><td>Multi-component of unsigned 32 bit integer</td></tr>\n",
    "  <tr><td>sitkVectorInt32</td><td>Multi-component of signed 32 bit integer</td></tr>\n",
    "  <tr><td>sitkVectorUInt64</td><td>Multi-component of unsigned 64 bit integer</td></tr>\n",
    "  <tr><td>sitkVectorInt64</td><td>Multi-component of signed 64 bit integer</td></tr>\n",
    "  <tr><td>sitkVectorFloat32</td><td>Multi-component of 32 bit float</td></tr>\n",
    "  <tr><td>sitkVectorFloat64</td><td>Multi-component of 64 bit float</td></tr>\n",
    "  <tr><td>sitkLabelUInt8</td><td>RLE label of unsigned 8 bit integers</td></tr>\n",
    "  <tr><td>sitkLabelUInt16</td><td>RLE label of unsigned 16 bit integers</td></tr>\n",
    "  <tr><td>sitkLabelUInt32</td><td>RLE label of unsigned 32 bit integers</td></tr>\n",
    "  <tr><td>sitkLabelUInt64</td><td>RLE label of unsigned 64 bit integers</td></tr>\n",
    "</table>\n",
    "\n",
    "还有sitkUnknown，用于未定义或错误的像素ID。 它的值为-1。 \n",
    "\n",
    "并非所有发行版都提供64位整数类型。 如果不可用，则值为sitkUnknown。"
   ]
  },
  {
   "cell_type": "code",
   "execution_count": 2,
   "metadata": {},
   "outputs": [],
   "source": [
    "from __future__ import print_function\n",
    "\n",
    "import SimpleITK as sitk\n",
    "\n",
    "%matplotlib inline\n",
    "import matplotlib.pyplot as plt\n",
    "import numpy as np\n",
    "\n",
    "from ipywidgets import interact, fixed\n",
    "import os\n",
    "\n",
    "OUTPUT_DIR = 'Output'\n",
    "\n",
    "# Utility method that either downloads data from the Girder repository or\n",
    "# if already downloaded returns the file name for reading from disk (cached data).\n",
    "%run update_path_to_download_script\n",
    "from downloaddata import fetch_data as fdata"
   ]
  },
  {
   "cell_type": "markdown",
   "metadata": {},
   "source": [
    "## Load your first image and display it"
   ]
  },
  {
   "cell_type": "code",
   "execution_count": 3,
   "metadata": {},
   "outputs": [
    {
     "name": "stdout",
     "output_type": "stream",
     "text": [
      "Fetching SimpleITK.jpg\n"
     ]
    },
    {
     "data": {
      "image/png": "[encoded data removed]",
      "text/plain": [
       "<Figure size 432x288 with 1 Axes>"
      ]
     },
     "metadata": {
      "needs_background": "light"
     },
     "output_type": "display_data"
    }
   ],
   "source": [
    "logo = sitk.ReadImage(fdata('SimpleITK.jpg'))\n",
    "\n",
    "plt.imshow(sitk.GetArrayViewFromImage(logo))\n",
    "\n",
    "#不显示坐标轴\n",
    "plt.axis('off');"
   ]
  },
  {
   "cell_type": "markdown",
   "metadata": {},
   "source": [
    "## Image Construction\n",
    "\n",
    "有多种方法可以创建图像。 \n",
    "\n",
    "完整定义图像需要以下组件：\n",
    "<ol>\n",
    "<li>Pixel type(像素类型) [fixed on creation, no default]: unsigned 32 bit integer, sitkVectorUInt8, etc., see list above.</li>\n",
    "<li> Sizes [fixed on creation, no default]: 每个维度中的像素/体素数量。 此数量隐式定义图像尺寸.</li>\n",
    "<li> Origin(原点) [default is zero]: 索引为（0,0,0）的像素/体素在物理空间中的坐标(单位.mm).</li>\n",
    "<li> Spacing(间距) [default is one]: 每个维度中相邻像素/体素之间的物理距离.</li>\n",
    "<li> Direction matrix(方向矩阵) [default is identity]: 像素/体素轴方向与物理方向之间的映射，旋转.</li>\n",
    "</ol>\n",
    " \n",
    "\n",
    "初始像素/体素值设置为零。"
   ]
  },
  {
   "cell_type": "code",
   "execution_count": 4,
   "metadata": {},
   "outputs": [],
   "source": [
    "image_3D = sitk.Image(256, 128, 64, sitk.sitkInt16)\n",
    "image_2D = sitk.Image(64, 64, sitk.sitkFloat32)\n",
    "image_2D = sitk.Image([32,32], sitk.sitkUInt32)\n",
    "image_RGB = sitk.Image([128,64], sitk.sitkVectorUInt8, 3)"
   ]
  },
  {
   "cell_type": "markdown",
   "metadata": {},
   "source": [
    "## Basic Image Attributes\n",
    "\n",
    "您可以更改图像原点，间距和方向。 对包含数据的图像进行此类更改应谨慎进行。"
   ]
  },
  {
   "cell_type": "code",
   "execution_count": 5,
   "metadata": {},
   "outputs": [
    {
     "name": "stdout",
     "output_type": "stream",
     "text": [
      "(78.0, 76.0, 77.0)\n",
      "(256, 128, 64)\n",
      "(0.5, 0.5, 3.0)\n",
      "(1.0, 0.0, 0.0, 0.0, 1.0, 0.0, 0.0, 0.0, 1.0)\n"
     ]
    }
   ],
   "source": [
    "image_3D.SetOrigin((78.0, 76.0, 77.0))\n",
    "image_3D.SetSpacing([0.5,0.5,3.0])\n",
    "\n",
    "print(image_3D.GetOrigin())\n",
    "print(image_3D.GetSize())\n",
    "print(image_3D.GetSpacing())\n",
    "print(image_3D.GetDirection())"
   ]
  },
  {
   "cell_type": "markdown",
   "metadata": {},
   "source": [
    "3D图像维度信息:"
   ]
  },
  {
   "cell_type": "code",
   "execution_count": 6,
   "metadata": {},
   "outputs": [
    {
     "name": "stdout",
     "output_type": "stream",
     "text": [
      "3\n",
      "256\n",
      "128\n",
      "64\n"
     ]
    }
   ],
   "source": [
    "print(image_3D.GetDimension())\n",
    "print(image_3D.GetWidth())\n",
    "print(image_3D.GetHeight())\n",
    "print(image_3D.GetDepth())"
   ]
  },
  {
   "cell_type": "markdown",
   "metadata": {},
   "source": [
    "2D图像的深度为0"
   ]
  },
  {
   "cell_type": "code",
   "execution_count": 7,
   "metadata": {},
   "outputs": [
    {
     "name": "stdout",
     "output_type": "stream",
     "text": [
      "(32, 32)\n",
      "0\n"
     ]
    }
   ],
   "source": [
    "print(image_2D.GetSize())\n",
    "print(image_2D.GetDepth())"
   ]
  },
  {
   "cell_type": "markdown",
   "metadata": {},
   "source": [
    "像素/体素类型: "
   ]
  },
  {
   "cell_type": "code",
   "execution_count": 8,
   "metadata": {},
   "outputs": [
    {
     "name": "stdout",
     "output_type": "stream",
     "text": [
      "2\n",
      "16-bit signed integer\n",
      "1\n"
     ]
    }
   ],
   "source": [
    "print(image_3D.GetPixelIDValue())\n",
    "print(image_3D.GetPixelIDTypeAsString())\n",
    "print(image_3D.GetNumberOfComponentsPerPixel())"
   ]
  },
  {
   "cell_type": "markdown",
   "metadata": {},
   "source": [
    "Vector图像及其数据的尺寸和大小是多少？"
   ]
  },
  {
   "cell_type": "code",
   "execution_count": 9,
   "metadata": {},
   "outputs": [
    {
     "name": "stdout",
     "output_type": "stream",
     "text": [
      "2\n",
      "(128, 64)\n",
      "3\n"
     ]
    }
   ],
   "source": [
    "print(image_RGB.GetDimension())\n",
    "print(image_RGB.GetSize())\n",
    "print(image_RGB.GetNumberOfComponentsPerPixel())"
   ]
  },
  {
   "cell_type": "markdown",
   "metadata": {},
   "source": [
    "## Accessing Pixels and Slicing\n",
    "\n",
    "\n",
    "Image类的成员函数```GetPixel```和```SetPixel```为像素访问提供类似ITK的接口。"
   ]
  },
  {
   "cell_type": "code",
   "execution_count": 10,
   "metadata": {},
   "outputs": [
    {
     "name": "stdout",
     "output_type": "stream",
     "text": [
      "Help on method GetPixel in module SimpleITK.SimpleITK:\n",
      "\n",
      "GetPixel(*idx) method of SimpleITK.SimpleITK.Image instance\n",
      "    Returns the value of a pixel.\n",
      "    \n",
      "    This method takes 2 parameters in 2D: the x and y index,\n",
      "    and 3 parameters in 3D: the x, y and z index.\n",
      "\n"
     ]
    }
   ],
   "source": [
    "help(image_3D.GetPixel)"
   ]
  },
  {
   "cell_type": "code",
   "execution_count": 11,
   "metadata": {},
   "outputs": [
    {
     "name": "stdout",
     "output_type": "stream",
     "text": [
      "0\n",
      "1\n",
      "0\n",
      "2\n"
     ]
    }
   ],
   "source": [
    "print(image_3D.GetPixel(0, 0, 0))\n",
    "image_3D.SetPixel(0, 0, 0, 1)\n",
    "print(image_3D.GetPixel(0, 0, 0))\n",
    "\n",
    "# This can also be done using Pythonic notation.\n",
    "print(image_3D[0,0,1])\n",
    "image_3D[0,0,1] = 2\n",
    "print(image_3D[0,0,1])"
   ]
  },
  {
   "cell_type": "markdown",
   "metadata": {},
   "source": [
    "切片SimpleITK图像返回图像数据的副本。 这类似于切片Python列表，与切片numpy数组返回的“视图”不同。"
   ]
  },
  {
   "cell_type": "code",
   "execution_count": 12,
   "metadata": {},
   "outputs": [
    {
     "name": "stdout",
     "output_type": "stream",
     "text": [
      "(200, 53)\n",
      "(100, 26)\n"
     ]
    },
    {
     "data": {
      "image/png": "[encoded data removed]",
      "text/plain": [
       "<Figure size 432x288 with 4 Axes>"
      ]
     },
     "metadata": {
      "needs_background": "light"
     },
     "output_type": "display_data"
    }
   ],
   "source": [
    "# 对logo进行步长为2的子采样\n",
    "logo_subsampled = logo[::2,::2]\n",
    "\n",
    "# Get the sub-image containing the word Simple\n",
    "simple = logo[0:115,:]\n",
    "\n",
    "# Get the sub-image containing the word Simple and flip it\n",
    "simple_flipped = logo[115:0:-1,:]\n",
    "\n",
    "#2行2列的图\n",
    "n = 2\n",
    "\n",
    "print(logo.GetSize())\n",
    "print(logo_subsampled.GetSize())\n",
    "\n",
    "plt.subplot(n,2,1)\n",
    "plt.imshow(sitk.GetArrayViewFromImage(logo))\n",
    "plt.axis('off');\n",
    "\n",
    "plt.subplot(n,2,2)\n",
    "plt.imshow(sitk.GetArrayViewFromImage(logo_subsampled))\n",
    "plt.axis('off');\n",
    "\n",
    "plt.subplot(n,2,3)\n",
    "plt.imshow(sitk.GetArrayViewFromImage(simple))\n",
    "plt.axis('off')\n",
    "\n",
    "plt.subplot(n,2,4)\n",
    "plt.imshow(sitk.GetArrayViewFromImage(simple_flipped))\n",
    "plt.axis('off');"
   ]
  },
  {
   "cell_type": "markdown",
   "metadata": {},
   "source": [
    "在徽标图像上绘制一个正方形：运行此单元格后，取消注释“Version 3”并查看其效果。"
   ]
  },
  {
   "cell_type": "code",
   "execution_count": 13,
   "metadata": {},
   "outputs": [
    {
     "data": {
      "image/png": "[encoded data removed]",
      "text/plain": [
       "<Figure size 432x288 with 2 Axes>"
      ]
     },
     "metadata": {
      "needs_background": "light"
     },
     "output_type": "display_data"
    }
   ],
   "source": [
    "# Version 0: 获取numpy数组并通过广播分配值 - 稍后你需要从数组中构造一个新的图像\n",
    "logo_pixels = sitk.GetArrayFromImage(logo)\n",
    "logo_pixels[0:10,0:10] = [0,255,0]\n",
    "\n",
    "# Version 1: 生成错误，图像切片返回新图像，您无法为图像指定值\n",
    "#logo[0:10,0:10] = [255,0,0]\n",
    "\n",
    "# Version 2: 图像切片会返回一个新图像，因此此处的所有作业都不会对原始的“logo”图像产生任何影响\n",
    "logo_subimage = logo[0:10, 0:10]\n",
    "for x in range(0,10):\n",
    "    for y in range(0,10):\n",
    "        logo_subimage[x,y] = [255,0,0]\n",
    "\n",
    "# Version 3: 修改原始图像，迭代并为每个像素分配一个值\n",
    "for x in range(0,10):\n",
    "    for y in range(0,10):\n",
    "        logo[x,y] = [255,0,0]\n",
    "\n",
    "        \n",
    "plt.subplot(2,1,1)\n",
    "plt.imshow(sitk.GetArrayViewFromImage(logo))\n",
    "plt.axis('off')\n",
    "\n",
    "plt.subplot(2,1,2)\n",
    "plt.imshow(logo_pixels)\n",
    "plt.axis('off');"
   ]
  },
  {
   "cell_type": "markdown",
   "metadata": {},
   "source": [
    "## Conversion between numpy and SimpleITK\n",
    "\n",
    "SimpleITK和numpy索引访问顺序相反！\n",
    "\n",
    "SimpleITK: image[x,y,z]<br>\n",
    "numpy: image_numpy_array[z,y,x]"
   ]
  },
  {
   "cell_type": "markdown",
   "metadata": {},
   "source": [
    "### From SimpleITK to numpy\n",
    "\n",
    "我们有两种从SimpleITK转换为numpy的选项：\n",
    "- GetArrayFromImage():返回图像数据的副本。 然后，您可以自由修改数据，因为它对原始SimpleITK图像没有影响。 \n",
    "- GetArrayViewFromImage()：返回图像数据的视图，这对于以内存有效的方式显示非常有用。 如果删除原始SimpleITK图像，则无法修改数据，视图将无效。"
   ]
  },
  {
   "cell_type": "code",
   "execution_count": 14,
   "metadata": {},
   "outputs": [
    {
     "name": "stdout",
     "output_type": "stream",
     "text": [
      "(256, 128, 64)\n",
      "(64, 128, 256)\n",
      "(128, 64)\n",
      "(64, 128, 3)\n"
     ]
    }
   ],
   "source": [
    "nda = sitk.GetArrayFromImage(image_3D)\n",
    "print(image_3D.GetSize())\n",
    "print(nda.shape)\n",
    "\n",
    "nda = sitk.GetArrayFromImage(image_RGB)\n",
    "print(image_RGB.GetSize())\n",
    "print(nda.shape)"
   ]
  },
  {
   "cell_type": "code",
   "execution_count": 15,
   "metadata": {
    "simpleitk_error_expected": "assignment destination is read-only"
   },
   "outputs": [
    {
     "ename": "ValueError",
     "evalue": "assignment destination is read-only",
     "output_type": "error",
     "traceback": [
      "\u001b[1;31m---------------------------------------------------------------------------\u001b[0m",
      "\u001b[1;31mValueError\u001b[0m                                Traceback (most recent call last)",
      "\u001b[1;32m<ipython-input-15-a2cfabfd40c3>\u001b[0m in \u001b[0;36m<module>\u001b[1;34m()\u001b[0m\n\u001b[0;32m      7\u001b[0m \u001b[1;33m\u001b[0m\u001b[0m\n\u001b[0;32m      8\u001b[0m \u001b[1;31m# Trying to assign a value to the array view will throw an exception\u001b[0m\u001b[1;33m\u001b[0m\u001b[1;33m\u001b[0m\u001b[0m\n\u001b[1;32m----> 9\u001b[1;33m \u001b[0mnda_view\u001b[0m\u001b[1;33m[\u001b[0m\u001b[1;36m0\u001b[0m\u001b[1;33m,\u001b[0m\u001b[1;36m0\u001b[0m\u001b[1;33m]\u001b[0m \u001b[1;33m=\u001b[0m \u001b[1;36m255\u001b[0m\u001b[1;33m\u001b[0m\u001b[0m\n\u001b[0m",
      "\u001b[1;31mValueError\u001b[0m: assignment destination is read-only"
     ]
    },
    {
     "data": {
      "image/png": "[encoded data removed]",
      "text/plain": [
       "<Figure size 432x288 with 1 Axes>"
      ]
     },
     "metadata": {
      "needs_background": "light"
     },
     "output_type": "display_data"
    }
   ],
   "source": [
    "gabor_image = sitk.GaborSource(size=[64,64], frequency=.03)\n",
    "\n",
    "# Getting a numpy array view on the image data doesn't copy the data\n",
    "nda_view = sitk.GetArrayViewFromImage(gabor_image)\n",
    "plt.imshow(nda_view, cmap=plt.cm.Greys_r)\n",
    "plt.axis('off');\n",
    "\n",
    "# Trying to assign a value to the array view will throw an exception\n",
    "nda_view[0,0] = 255"
   ]
  },
  {
   "cell_type": "markdown",
   "metadata": {},
   "source": [
    "### From numpy to SimpleITK\n",
    "\n",
    "请记住设置图像的原点，间距和可能的方向余弦矩阵。 默认值可能与图像的物理尺寸不匹配。"
   ]
  },
  {
   "cell_type": "code",
   "execution_count": null,
   "metadata": {},
   "outputs": [],
   "source": [
    "nda = np.zeros((10,20,3))\n",
    "\n",
    "#if this is supposed to be a 3D gray scale image [x=3, y=20, z=10]\n",
    "img = sitk.GetImageFromArray(nda)\n",
    "print(img.GetSize())\n",
    "\n",
    "#if this is supposed to be a 2D color image [x=20,y=10]\n",
    "img = sitk.GetImageFromArray(nda, isVector=True)\n",
    "print(img.GetSize())"
   ]
  },
  {
   "cell_type": "markdown",
   "metadata": {},
   "source": [
    "### There and back again\n",
    "\n",
    "下面的代码单元格说明了一种情况，即您的代码是SimpleITK方法和自定义Python代码的组合，可以使用强度值或SimpleITK之外的标签。 当您在Python中实现算法并且不关心物理间距时（这实际上假设volume是各向同性的），这是一种合理的方法。"
   ]
  },
  {
   "cell_type": "code",
   "execution_count": null,
   "metadata": {},
   "outputs": [],
   "source": [
    "def my_algorithm(image_as_numpy_array):\n",
    "    # res is the image result of your algorithm, has the same grid size as the original image\n",
    "    res = image_as_numpy_array\n",
    "    return res\n",
    "\n",
    "# Starting with SimpleITK\n",
    "img = sitk.ReadImage(fdata('training_001_mr_T1.mha'))\n",
    "\n",
    "# Custom Python code working on a numpy array.\n",
    "npa_res = my_algorithm(sitk.GetArrayFromImage(img))\n",
    "\n",
    "# Converting back to SimpleITK (assumes we didn't move the image in space as we copy the information from the original)\n",
    "res_img = sitk.GetImageFromArray(npa_res)\n",
    "res_img.CopyInformation(img)\n",
    "\n",
    "# Continuing to work with SimpleITK images\n",
    "res_img - img"
   ]
  },
  {
   "cell_type": "markdown",
   "metadata": {},
   "source": [
    "### Image operations\n",
    "\n",
    "SimpleITK支持图像之间的基本算术运算，同时考虑到它们的物理空间。 反复运行此单元格。 \n",
    "\n",
    "修复错误（注释掉SetDirection，然后注释SetSpacing）。 为什么SetOrigin行不会导致问题？ 为了被认为是等同的，需要两个物理属性有多接近？"
   ]
  },
  {
   "cell_type": "code",
   "execution_count": null,
   "metadata": {
    "simpleitk_error_expected": "Inputs do not occupy the same physical space!"
   },
   "outputs": [],
   "source": [
    "img1 = sitk.Image(24,24, sitk.sitkUInt8)\n",
    "img1[0,0] = 0\n",
    "\n",
    "img2 = sitk.Image(img1.GetSize(), sitk.sitkUInt8)\n",
    "#img2.SetDirection([0,1,0.5,0.5])\n",
    "#img2.SetSpacing([0.5,0.8])\n",
    "img2.SetOrigin([0.000001,0.000001])\n",
    "img2[0,0] = 255\n",
    "\n",
    "img3 = img1 + img2\n",
    "print(img3[0,0])"
   ]
  },
  {
   "cell_type": "markdown",
   "metadata": {},
   "source": [
    "## Reading and Writing\n",
    "\n",
    "SimpleITK可以读取和写入存储在单个文件或一组文件（例如DICOM序列）中的图像。\n",
    "\n",
    "以DICOM格式存储的图像具有与之关联的元数据字典，其中填充有DICOM标记。当DICOM序列作为单个图像读取时，元数据信息不可用，因为DICOM标记特定于每个文件。如果需要元数据，则有三个选项：\n",
    "\n",
    "1. 使用面向对象的接口的[ImageSeriesReader](https://itk.org/SimpleITKDoxygen/html/classitk_1_1simple_1_1ImageSeriesReader.html)类，将其配置为使用`MetaDataDictionaryArrayUpdateOn`方法加载标记，如果需要私有标记，则可能加载`LoadPrivateTagsOn`方法。读取序列后，您可以使用`GetMetaDataKeys`，`HasMetaDataKey`和`GetMetaData`从序列阅读器访问元数据。\n",
    "\n",
    "2. 使用面向对象的接口的[ImageFileReader](https://itk.org/SimpleITKDoxygen/html/classitk_1_1simple_1_1ImageFileReader.html)，设置特定切片的文件名，并仅使用`ReadImageInformation`方法读取它的元数据，该方法仅读取元数据而不读取批量像素信息。读取元数据后，您可以使用`GetMetaDataKeys`，`HasMetaDataKey`和`GetMetaData`从文件阅读器访问元数据。\n",
    "\n",
    "3. 使用面向对象的接口的[ImageFileReader]()，设置特定切片的文件名并读取它。或者使用程序界面的ReadImage函数，读取特定文件。然后，您可以使用`GetMetaDataKeys`，`HasMetaDataKey`和`GetMetaData`直接从[Image](https://itk.org/SimpleITKDoxygen/html/classitk_1_1simple_1_1Image.html)访问元数据。\n"
   ]
  },
  {
   "cell_type": "markdown",
   "metadata": {},
   "source": [
    "在下面的单元格中，我们读取JPEG格式图像，并将其写为PNG和BMP。文件格式是从文件扩展名中推断出来的。还设置了适当的像素类型 - 您可以覆盖它并强制选择的像素类型。"
   ]
  },
  {
   "cell_type": "code",
   "execution_count": null,
   "metadata": {},
   "outputs": [],
   "source": [
    "img = sitk.ReadImage(fdata('SimpleITK.jpg'))\n",
    "print(img.GetPixelIDTypeAsString())\n",
    "\n",
    "# write as PNG and BMP\n",
    "sitk.WriteImage(img, os.path.join(OUTPUT_DIR, 'SimpleITK.png'))\n",
    "sitk.WriteImage(img, os.path.join(OUTPUT_DIR, 'SimpleITK.bmp'))"
   ]
  },
  {
   "cell_type": "markdown",
   "metadata": {},
   "source": [
    "Read an image in JPEG format and cast the pixel type according to user selection."
   ]
  },
  {
   "cell_type": "code",
   "execution_count": null,
   "metadata": {
    "simpleitk_error_allowed": "Image RGB array must be uint8 or floating point; found uint16"
   },
   "outputs": [],
   "source": [
    "# Several pixel types, some make sense in this case (vector types) and some are just show\n",
    "# that the user's choice will force the pixel type even when it doesn't make sense\n",
    "# (e.g. sitkVectorUInt16 or sitkUInt8).\n",
    "pixel_types = { 'sitkUInt8': sitk.sitkUInt8,\n",
    "                'sitkUInt16' : sitk.sitkUInt16,\n",
    "                'sitkFloat64' : sitk.sitkFloat64,\n",
    "                'sitkVectorUInt8' : sitk.sitkVectorUInt8,#读取jpg图像的3个通道\n",
    "                'sitkVectorUInt16' : sitk.sitkVectorUInt16,\n",
    "                'sitkVectorFloat64' : sitk.sitkVectorFloat64}\n",
    "\n",
    "def pixel_type_dropdown_callback(pixel_type, pixel_types_dict):\n",
    "    #specify the file location and the pixel type we want\n",
    "    img = sitk.ReadImage(fdata('SimpleITK.jpg'), pixel_types_dict[pixel_type])\n",
    "    \n",
    "    print(img.GetPixelIDTypeAsString())\n",
    "    print(img[0,0])\n",
    "    plt.imshow(sitk.GetArrayViewFromImage(img))\n",
    "    plt.axis('off')\n",
    " \n",
    "interact(pixel_type_dropdown_callback, pixel_type=list(pixel_types.keys()), pixel_types_dict=fixed(pixel_types));     "
   ]
  },
  {
   "cell_type": "markdown",
   "metadata": {},
   "source": [
    "### 读DICOM序列并将其写入1个mha文件\n",
    "1. 指定序列所在目录:origin_dir\n",
    "2. 设定特定的序列ID:series_ID\n",
    "3. 初始化图像序列阅读器:reader=sitk.ImageSeriesReader()\n",
    "4. GetGDCMSeriesFileNames(origin_dir,series_ID):根据序列目录和序列ID获取其对应的文件名(全路径)元组:origin_filenames\n",
    "5. sitk.ReadImage(origin_filenames):根据文件名元组读取3D图像:origin_image\n",
    "6. sitk.WriteImage(origin_image,dst):将图像以mha格式写入dst_dir/xxx.mha文件中"
   ]
  },
  {
   "cell_type": "code",
   "execution_count": null,
   "metadata": {},
   "outputs": [],
   "source": [
    "#序列所在目录\n",
    "data_directory = os.path.dirname(fdata(\"CIRS057A_MR_CT_DICOM/readme.txt\"))\n",
    "\n",
    "#设定特定的序列ID\n",
    "series_ID = '1.2.840.113619.2.290.3.3233817346.783.1399004564.515'\n",
    "\n",
    "#图像序列阅读器\n",
    "reader = sitk.ImageSeriesReader()\n",
    "\n",
    "#GetGDCMSeriesFileNames:根据序列目录和序列ID获取其对应的文件名(全路径)元组\n",
    "origin_filenames=reader.GetGDCMSeriesFileNames(data_directory, series_ID)\n",
    "#print(type(origin_filenames))\n",
    "\n",
    "#sitk.ReadImage:根据文件名元组读取3D图像\n",
    "original_image = sitk.ReadImage(origin_filenames)\n",
    "#print(original_image)\n",
    "\n",
    "# sitk.WriteImage(origin_image,dst):将图像以mha格式写入dst_dir/xxx.mha文件中\n",
    "output_file_name_3D = os.path.join(OUTPUT_DIR, '3DImage.mha')\n",
    "sitk.WriteImage(original_image, output_file_name_3D)\n",
    "\n",
    "# Read it back again.\n",
    "written_image = sitk.ReadImage(output_file_name_3D)\n",
    "\n",
    "# Check that the original and written image are the same.\n",
    "statistics_image_filter = sitk.StatisticsImageFilter()\n",
    "statistics_image_filter.Execute(original_image - written_image)\n",
    "\n",
    "# Check that the original and written files are the same\n",
    "print('Max, Min differences are : {0}, {1}'.format(statistics_image_filter.GetMaximum(), statistics_image_filter.GetMinimum()))"
   ]
  },
  {
   "cell_type": "markdown",
   "metadata": {},
   "source": [
    "将图像系列写为JPEG。 **WriteImage函数接收3D volume和图像文件名列表，会根据z轴(depth)写入volume。** 对于可显示的结果，我们需要重新缩放图像强度(dicom文件的图像强度即像素值)，因为JPEG格式需要转换为UInt8像素类型（默认为[0,255]）。\n",
    "\n",
    "- WriteImage(image_3D,list_of_filenames)"
   ]
  },
  {
   "cell_type": "markdown",
   "metadata": {},
   "source": [
    "## StatisticsImageFilter计算图像的最小值，最大值，总和，均值，方差，标准差。\n",
    "\n",
    "1. statistics_image_filter = sitk.StatisticsImageFilter()\n",
    "2. statistics_image_filter.Execute(image)\n",
    "3. statistics_image_filter.GetMaximum(),statistics_image_filter.GetMinimum()...."
   ]
  },
  {
   "cell_type": "code",
   "execution_count": null,
   "metadata": {},
   "outputs": [],
   "source": [
    "#print(written_image.intensity)\n",
    "statistics_image_filter = sitk.StatisticsImageFilter()\n",
    "\n",
    "#原mha图像的数据类型\n",
    "print(written_image.GetPixelIDTypeAsString())\n",
    "statistics_image_filter.Execute(written_image)\n",
    "\n",
    "#mha图像的最大intensity和最小intensity\n",
    "print(\"max:{},min:{}\".format(statistics_image_filter.GetMaximum(),statistics_image_filter.GetMinimum()))\n",
    "\n",
    "#转换图像的数据类型为sitk.sitkUInt8为了将slide保存为jpg格式\n",
    "slides_uint=sitk.Cast(sitk.RescaleIntensity(written_image), sitk.sitkUInt8)\n",
    "print(type(slides_uint))\n",
    "print(slides_uints.GetPixelIDTypeAsString())\n",
    "\n",
    "sitk.WriteImage(slides_uint, sitk.sitkUInt8), \n",
    "               [os.path.join(OUTPUT_DIR, 'slice{0:03d}.jpg'.format(i)) for i in range(written_image.GetSize()[2])]) "
   ]
  },
  {
   "cell_type": "markdown",
   "metadata": {},
   "source": [
    "### 从目录中选择特定的DICOM系列，然后加载用户选择。\n",
    "1. 指定序列所在目录:origin_dir\n",
    "2. 初始化图像序列阅读器reader = sitk.ImageSeriesReader()\n",
    "3. reader.GetGDCMSeriesIDs(origin_dir)根据目录读取序列ID元组(1个目录下可能存在多个序列):series_IDs\n",
    "4. 检查至少存在1个序列ID:series_ID\n",
    "5. reader.GetGDCMSeriesFileNames(origin_dir, series)根据目录和指定的某个序列ID获取其对应文件名元组:origin_filenames\n",
    "6. reader.SetFileNames(origin_filenames)设置origin_filenames为reader要读取的文件名元组\n",
    "7. reader.Execute():读取序列图像:img"
   ]
  },
  {
   "cell_type": "code",
   "execution_count": null,
   "metadata": {},
   "outputs": [],
   "source": [
    "data_directory = os.path.dirname(fdata(\"CIRS057A_MR_CT_DICOM/readme.txt\"))\n",
    "# Global variable 'selected_series' is updated by the interact function\n",
    "\n",
    "selected_series = ''\n",
    "\n",
    "#图片文件(1个slide)读取器\n",
    "file_reader = sitk.ImageFileReader()\n",
    "\n",
    "def DICOM_series_dropdown_callback(series_to_load, series_dictionary):\n",
    "    global selected_series\n",
    "    \n",
    "    # Print some information about the series from the meta-data dictionary\n",
    "    # DICOM standard part 6, Data Dictionary: http://medical.nema.org/medical/dicom/current/output/pdf/part06.pdf\n",
    "    \n",
    "    #读某个序列对应的第1个文件\n",
    "    file_reader.SetFileName(series_dictionary[series_to_load][0])\n",
    "    \n",
    "    #读取该slide的信息\n",
    "    file_reader.ReadImageInformation()\n",
    "    tags_to_print = {'0010|0010': 'Patient name: ', \n",
    "                     '0008|0060' : 'Modality: ',\n",
    "                     '0008|0021' : 'Series date: ',\n",
    "                     '0008|0080' : 'Institution name: ',\n",
    "                     '0008|1050' : 'Performing physician\\'s name: '}\n",
    "    for tag in tags_to_print:\n",
    "        try:\n",
    "            print(tags_to_print[tag] + file_reader.GetMetaData(tag))\n",
    "        except: # Ignore if the tag isn't in the dictionary\n",
    "            pass\n",
    "    \n",
    "    #交互式选中的序列ID\n",
    "    selected_series = series_to_load                    \n",
    "\n",
    "# 目录包含多个DICOM研究/序列，存储在字典中，其中键是序列ID，值是其对应的文件名\n",
    "reader = sitk.ImageSeriesReader()\n",
    "series_file_names = {}\n",
    "\n",
    "#GetGDCMSeriesIDs：根据目录读取序列ID元组(1个目录下可能存在多个序列)\n",
    "series_IDs = reader.GetGDCMSeriesIDs(data_directory)\n",
    "#print(series_IDs)\n",
    "\n",
    "# 检查至少有一个序列ID\n",
    "if series_IDs:\n",
    "    for series in series_IDs:\n",
    "        #GetGDCMSeriesFileNames:根据目录和序列号获取其对应文件名元组\n",
    "        series_file_names[series] = reader.GetGDCMSeriesFileNames(data_directory, series)\n",
    "    \n",
    "    interact(DICOM_series_dropdown_callback, series_to_load=list(series_IDs), series_dictionary=fixed(series_file_names)); \n",
    "else:\n",
    "    print('Data directory does not contain any DICOM series.')"
   ]
  },
  {
   "cell_type": "code",
   "execution_count": null,
   "metadata": {},
   "outputs": [],
   "source": [
    "reader.SetFileNames(series_file_names[selected_series])\n",
    "img = reader.Execute()\n",
    "\n",
    "# Display the image slice from the middle of the stack, z axis\n",
    "z = int(img.GetDepth()/2)\n",
    "plt.imshow(sitk.GetArrayViewFromImage(img)[z,:,:], cmap=plt.cm.Greys_r)\n",
    "plt.axis('off');"
   ]
  },
  {
   "cell_type": "markdown",
   "metadata": {},
   "source": [
    "### Multi-channel images and color\n",
    "\n",
    "一般而言，SimpleITK将彩色图像表示为独立于[色彩空间](https://en.wikipedia.org/wiki/Color_space)的多通道图像。在使用它们进行显示或任何其他目的之前，您可以根据其他颜色空间知识正确解释通道。\n",
    "\n",
    "以下单元格说明了以DICOM格式读取和解释有趣图像。这是一张灯箱上的X射线照片（是的，野外有一些奇怪的东西）。该图像的元数据字典包含允许我们智能地解释它的相关信息。\n",
    "\n",
    "我们将看一下图像的模态（0008 | 0060），在我们的例子中是XC，它代表“外部相机摄影”。在阅读图像后，我们看到它有三个通道并尝试显示它。此时我们意识到出了问题，我们检查了图像的光度学解释（0028 | 0004），DICOM中的色彩空间说话。然后我们修改像素值，以便我们可以使用图像查看器的预期颜色空间显示它们。"
   ]
  },
  {
   "cell_type": "code",
   "execution_count": 4,
   "metadata": {
    "simpleitk_error_allowed": "Exception thrown in SimpleITK Show:"
   },
   "outputs": [
    {
     "name": "stdout",
     "output_type": "stream",
     "text": [
      "Fetching photo.dcm\n",
      "(371, 357, 1)\n",
      "(1, 357, 371, 3)\n",
      "Image Modality: XC\n",
      "Number of channels: 3\n",
      "Photomertic Interpretation: YBR_FULL_422\n"
     ]
    }
   ],
   "source": [
    "xray_photo = sitk.ReadImage(fdata('photo.dcm'))\n",
    "\n",
    "#X光图像的size:[W,H,1]\n",
    "print(xray_photo.GetSize())\n",
    "print(sitk.GetArrayFromImage(xray_photo).shape)\n",
    "print('Image Modality: {0}'.format(xray_photo.GetMetaData('0008|0060')))\n",
    "\n",
    "#通道数:3\n",
    "print('Number of channels: {0}'.format(xray_photo.GetNumberOfComponentsPerPixel()))\n",
    "\n",
    "# Display the image using Fiji which expects the channels to be in the RGB color space\n",
    "#sitk.Show(xray_photo)\n",
    "\n",
    "# In what color space are the pixels?:YBR_FULL_422\n",
    "print('Photomertic Interpretation: {0}'.format(xray_photo.GetMetaData('0028|0004')))"
   ]
  },
  {
   "cell_type": "code",
   "execution_count": null,
   "metadata": {},
   "outputs": [],
   "source": [
    "# x-rays are expected to be a single channel gray scale image and not a color image. To obtain a gray scale image\n",
    "# corresponding to the original three channel image we only need to take the luminance (Y channel).\n",
    "\n",
    "#获取灰度图只需要第1个通道\n",
    "sitk.Show(sitk.VectorIndexSelectionCast(xray_photo,0))"
   ]
  },
  {
   "cell_type": "code",
   "execution_count": null,
   "metadata": {
    "simpleitk_error_allowed": "Exception thrown in SimpleITK Show:"
   },
   "outputs": [],
   "source": [
    "# 我们的像素在YCbCr颜色空间中，我们希望它们是RGB，因此我们需要更改表示\n",
    "def full_ycbcr_to_rgb(image):\n",
    "    #sitk.VectorIndexSelectionCast(image,i, sitk.sitkFloat32):获取第i channel的矩阵数据并转换为sitk.sitkFloat32类型\n",
    "    channels = [sitk.VectorIndexSelectionCast(image,i, sitk.sitkFloat32) for i in range(image.GetNumberOfComponentsPerPixel())]\n",
    "    \n",
    "    chan0 = channels[0]\n",
    "    chan1 = channels[1] - 128\n",
    "    chan2 = channels[2] - 128\n",
    "    \n",
    "    return sitk.Compose([sitk.Clamp(chan0 + 1.402*chan2, sitk.sitkUInt8),\n",
    "                         sitk.Clamp(chan0 - 0.114 * 1.772 / 0.587*chan1 - 0.299 * 1.402 / 0.587*chan2, sitk.sitkUInt8),\n",
    "                         sitk.Clamp(chan0 + 1.772*chan1, sitk.sitkUInt8)])\n",
    "\n",
    "#获取RGB图需要颜色空间转换\n",
    "sitk.Show(full_ycbcr_to_rgb(xray_photo))"
   ]
  },
  {
   "cell_type": "markdown",
   "metadata": {},
   "source": [
    "### Finer control(更精细的控制)\n",
    "\n",
    "ImageFileReader的接口提供更精细的读取控制，允许我们要求使用特定的IO，并允许我们将图像的一部分流式传输到内存而无需读取整个图像（由ImageIO组件的子集支持）。 \n",
    "\n",
    "#### Selecting a Specific Image IO\n",
    "\n",
    "SimpleITK依赖于已注册的ImageIO来指示它们是否可以读取文件然后执行读取。 这是自动完成的，遍历ImageIO集并询问他们是否可以读取给定文件。 可以选择第一个。 如果多个ImageIO可以读取特定格式，我们不知道哪个用于任务（例如TIFFImageIO和LSMImageIO，它是从它派生的，都可以读取tif文件）。 在某些情况下，您可能希望使用特定的IO，可能更快地读取文件，或支持与文件格式关联的更完整的功能集。 \n",
    "\n",
    "下一个单元格显示如何找出注册的ImageIOs,并指定我们想要的那个。"
   ]
  },
  {
   "cell_type": "markdown",
   "metadata": {},
   "source": [
    "1. sitk.ImageFileReader()初始化图像文件读取器file_reader\n",
    "2. file_reader.SetImageIO('')设置默认的IO,自动选择\n",
    "3. file_reader.SetFileName(fdata('SimpleITK.jpg'))设置读取的文件名\n",
    "4. file_reader.Execute()执行读取器,返回image"
   ]
  },
  {
   "cell_type": "code",
   "execution_count": 17,
   "metadata": {},
   "outputs": [
    {
     "name": "stdout",
     "output_type": "stream",
     "text": [
      "The supported image IOs are: ('BMPImageIO', 'BioRadImageIO', 'Bruker2dseqImageIO', 'GDCMImageIO', 'GE4ImageIO', 'GE5ImageIO', 'GiplImageIO', 'HDF5ImageIO', 'JPEGImageIO', 'LSMImageIO', 'MINCImageIO', 'MRCImageIO', 'MetaImageIO', 'NiftiImageIO', 'NrrdImageIO', 'PNGImageIO', 'StimulateImageIO', 'TIFFImageIO', 'VTKImageIO')\n",
      "\n",
      " itk::simple::ImageFileReader\n",
      "  FileName: \"\"\n",
      "  ExtractSize: [ ]\n",
      "  ExtractIndex: [ ]\n",
      "  Image Information:\n",
      "    PixelType: Unknown pixel id\n",
      "    Dimension: 0\n",
      "    NumberOfComponents: 0\n",
      "    Direction: [ ]\n",
      "    Origin: [ ]\n",
      "    Spacing: [ ]\n",
      "    Size: [ ]\n",
      "  OutputPixelType: Unknown pixel id\n",
      "  LoadPrivateTags: 0\n",
      "  ImageIOName: \n",
      "  Registered ImageIO:\n",
      "\tBMPImageIO ( *.bmp, *.BMP,\b )\n",
      "\tBioRadImageIO ( *.PIC, *.pic,\b )\n",
      "\tBruker2dseqImageIO\n",
      "\tGDCMImageIO ( *.dcm, *.DCM, *.dicom, *.DICOM,\b )\n",
      "\tGE4ImageIO\n",
      "\tGE5ImageIO\n",
      "\tGiplImageIO\n",
      "\tHDF5ImageIO\n",
      "\tJPEGImageIO ( *.jpg, *.JPG, *.jpeg, *.JPEG,\b )\n",
      "\tLSMImageIO ( *.tif, *.TIF, *.tiff, *.TIFF, *.lsm, *.LSM,\b )\n",
      "\tMINCImageIO ( *.mnc, *.MNC,\b )\n",
      "\tMRCImageIO ( *.mrc, *.rec,\b )\n",
      "\tMetaImageIO ( *.mha, *.mhd,\b )\n",
      "\tNiftiImageIO ( *.nia, *.nii, *.nii.gz, *.hdr, *.img, *.img.gz,\b )\n",
      "\tNrrdImageIO ( *.nrrd, *.nhdr,\b )\n",
      "\tPNGImageIO ( *.png, *.PNG,\b )\n",
      "\tStimulateImageIO ( *.spr,\b )\n",
      "\tTIFFImageIO ( *.tif, *.TIF, *.tiff, *.TIFF,\b )\n",
      "\tVTKImageIO ( *.vtk,\b )\n",
      "  Debug: 0\n",
      "  NumberOfThreads: 12\n",
      "  Commands: (none)\n",
      "  ProgressMeasurement: 0\n",
      "  ActiveProcess: (none)\n",
      "\n",
      "Fetching SimpleITK.jpg\n"
     ]
    }
   ],
   "source": [
    "file_reader = sitk.ImageFileReader()\n",
    "\n",
    "# Get a tuple listing all registered ImageIOs\n",
    "image_ios_tuple = file_reader.GetRegisteredImageIOs()\n",
    "print(\"The supported image IOs are: \" + str(image_ios_tuple))\n",
    "\n",
    "# Optionally, just print the reader and see which ImageIOs are registered\n",
    "print('\\n',file_reader)\n",
    "\n",
    "#Specify the JPEGImageIO and read file\n",
    "file_reader.SetImageIO('JPEGImageIO')\n",
    "file_reader.SetFileName(fdata('SimpleITK.jpg'))\n",
    "logo = file_reader.Execute()\n",
    "\n",
    "# Unfortunately, now reading a non JPEG image will fail\n",
    "# try:\n",
    "#     file_reader.SetFileName(fdata('cthead1.png'))\n",
    "#     ct_head = file_reader.Execute()\n",
    "# except RuntimeError:\n",
    "#     print('Got a RuntimeError exception.')\n",
    "    \n",
    "# We can reset the file reader to its default behaviour so that it automatically \n",
    "# selects the ImageIO\n",
    "file_reader.SetImageIO('')\n",
    "ct_head = file_reader.Execute()"
   ]
  },
  {
   "cell_type": "markdown",
   "metadata": {},
   "source": [
    "#### Streaming Image IO\n",
    "\n",
    "**流式图像IO SimpleITK支持的一些ImageIO允许您在图像的子区域中流式传输，而无需将整个图像读入内存。 当您受到内存限制时（图像很大或内存有限），这非常有用**\n",
    "\n",
    "支持流式传输的ImageIO包括HDF5ImageIO，VTKImageIO，NiftiImageIO，MetaImageIO ......\n",
    "\n",
    "下一个单元格显示如何从较大的图像中读取子/裁剪图像。 我们读取原始图像的图像[1 / 3,2 / 3]的中央1/3部分。"
   ]
  },
  {
   "cell_type": "code",
   "execution_count": 4,
   "metadata": {
    "simpleitk_error_allowed": "Exception thrown in SimpleITK Show:"
   },
   "outputs": [
    {
     "name": "stdout",
     "output_type": "stream",
     "text": [
      "Fetching vm_head_rgb.mha\n",
      "image_size:(2048, 1216, 220)\n",
      "start_index:(682, 405, 73)\n",
      "extract_size:(682, 405, 73)\n"
     ]
    }
   ],
   "source": [
    "file_reader = sitk.ImageFileReader()\n",
    "file_reader.SetFileName(fdata('vm_head_rgb.mha'))\n",
    "\n",
    "file_reader.ReadImageInformation()\n",
    "image_size = file_reader.GetSize()\n",
    "print(\"image_size:{}\".format(image_size))\n",
    "\n",
    "#从width,height,depth 1/3的索引位置裁剪1/3\n",
    "start_index, extract_size = zip(*[(int(1.0/3.0*sz), int(1.0/3.0*sz)) for sz in file_reader.GetSize()])\n",
    "\n",
    "print(\"start_index:{}\".format(start_index))\n",
    "print(\"extract_size:{}\".format(extract_size))\n",
    "\n",
    "file_reader.SetExtractIndex(start_index)\n",
    "file_reader.SetExtractSize(extract_size)\n",
    "\n",
    "#sitk.Show(file_reader.Execute())"
   ]
  },
  {
   "cell_type": "markdown",
   "metadata": {},
   "source": [
    "接下来的单元显示了如何使用比直接方法更小的内存占用减去彼此的两个大图像，尽管代码比直接方法更复杂和更慢：\n",
    "\n",
    "```\n",
    "sitk.ReadImage(image1_file_name) - sitk.ReadImage(image2_file_name)\n",
    "```\n",
    "\n",
    "**Note**: 代码假设两个图像占据相同的空间区域（原点，间距，方向余弦矩阵）\n",
    "\n"
   ]
  },
  {
   "cell_type": "code",
   "execution_count": 8,
   "metadata": {},
   "outputs": [
    {
     "name": "stdout",
     "output_type": "stream",
     "text": [
      "Help on function Paste in module SimpleITK.SimpleITK:\n",
      "\n",
      "Paste(*args, **kwargs)\n",
      "    Paste(Image destinationImage, Image sourceImage, VectorUInt32 sourceSize, VectorInt32 sourceIndex, VectorInt32 destinationIndex) -> Image\n",
      "    \n",
      "    \n",
      "    \n",
      "    Paste an image into another image.\n",
      "    \n",
      "    \n",
      "    This function directly calls the execute method of PasteImageFilter in order to support a procedural API\n",
      "    \n",
      "    \n",
      "    See:\n",
      "     itk::simple::PasteImageFilter for the object oriented interface\n",
      "\n"
     ]
    }
   ],
   "source": [
    "help(sitk.Paste)"
   ]
  },
  {
   "cell_type": "code",
   "execution_count": 3,
   "metadata": {},
   "outputs": [
    {
     "name": "stdout",
     "output_type": "stream",
     "text": [
      "Fetching fib_sem_bacillus_subtilis.mha\n",
      "Downloaded 74215399 of 74215399 bytes (100.00%)\n",
      "Fetching fib_sem_bacillus_subtilis.mha\n"
     ]
    }
   ],
   "source": [
    "def streaming_subtract(image1_file_name, image2_file_name, parts):\n",
    "    '''\n",
    "    Subtract image1 from image2 using 'parts' number of sub-regions.\n",
    "    从image2中减去子区域(深度上)image1\n",
    "    '''\n",
    "    \n",
    "    #读取image1_file_name的size\n",
    "    file_reader = sitk.ImageFileReader()\n",
    "    file_reader.SetFileName(image1_file_name)\n",
    "    file_reader.ReadImageInformation()\n",
    "    image_size = file_reader.GetSize()\n",
    "\n",
    "    # 初始化result_img size同image1，每个位置通道数同image1\n",
    "    result_img = sitk.Image(file_reader.GetSize(), file_reader.GetPixelID(), file_reader.GetNumberOfComponents())\n",
    "    result_img.SetSpacing(file_reader.GetSpacing())\n",
    "    result_img.SetOrigin(file_reader.GetOrigin())\n",
    "    result_img.SetDirection(file_reader.GetDirection())\n",
    "\n",
    "    extract_size = list(file_reader.GetSize())\n",
    "    extract_size[-1] = extract_size[-1]//parts\n",
    "    current_index = [0]*file_reader.GetDimension()\n",
    "    \n",
    "    for i in range(parts):\n",
    "        if i == (parts-1): # last region may be smaller than the standard extract region\n",
    "            extract_size[-1] = image_size[-1] - current_index[-1]\n",
    "        \n",
    "        file_reader.SetFileName(image1_file_name)\n",
    "        \n",
    "        #file_reader.SetExtractSize设置子区域的索引位置\n",
    "        #file_reader.SetExtractSize设置子区域的size\n",
    "        #file_reader.Execute读取子区域sub_image1\n",
    "        file_reader.SetExtractIndex(current_index)\n",
    "        file_reader.SetExtractSize(extract_size)\n",
    "        sub_image1 = file_reader.Execute()\n",
    "\n",
    "        file_reader.SetFileName(image2_file_name)\n",
    "        file_reader.SetExtractIndex(current_index)\n",
    "        file_reader.SetExtractSize(extract_size)\n",
    "        sub_image2 = file_reader.Execute()\n",
    "        \n",
    "        \n",
    "        # Paste the result of subtracting the two subregions into their location in the result_img\n",
    "        #从sub_image1 - sub_image2索引为[0]*file_reader.GetDimension()的位置拷贝extract_size尺寸的区域给result_image索引为current_index位置\n",
    "        result_img = sitk.Paste(result_img, sub_image1 - sub_image2, extract_size, [0]*file_reader.GetDimension(), current_index)\n",
    "        \n",
    "        #更新下一个子区域索引位置的depth\n",
    "        current_index[-1] += extract_size[-1]        \n",
    "    return result_img\n",
    "\n",
    "# If you have the patience and RAM you can try this with the vm_head_rgb.mha image.\n",
    "image1_file_name = fdata('fib_sem_bacillus_subtilis.mha')\n",
    "image2_file_name = fdata('fib_sem_bacillus_subtilis.mha')"
   ]
  },
  {
   "cell_type": "markdown",
   "metadata": {},
   "source": [
    "查看系统内存使用情况的一种简单方法是打开相应的监控程序：（Windows）资源监视器; （Linux）顶部; （OS X）活动监视器。 这将让您大致了解流式传输与非流式传输方法所使用的内存。"
   ]
  },
  {
   "cell_type": "code",
   "execution_count": 7,
   "metadata": {},
   "outputs": [
    {
     "name": "stdout",
     "output_type": "stream",
     "text": [
      "(746, 418, 238)\n",
      "1\n"
     ]
    }
   ],
   "source": [
    "result_img = streaming_subtract(image1_file_name, image2_file_name, parts=5)\n",
    "print(result_img.GetSize())\n",
    "print(result_img.GetNumberOfComponentsPerPixel())"
   ]
  },
  {
   "cell_type": "code",
   "execution_count": null,
   "metadata": {},
   "outputs": [],
   "source": [
    "result_img = sitk.ReadImage(image1_file_name) - sitk.ReadImage(image2_file_name)\n",
    "del result_img"
   ]
  }
 ],
 "metadata": {
  "anaconda-cloud": {},
  "kernelspec": {
   "display_name": "Python 3",
   "language": "python",
   "name": "python3"
  },
  "language_info": {
   "codemirror_mode": {
    "name": "ipython",
    "version": 3
   },
   "file_extension": ".py",
   "mimetype": "text/x-python",
   "name": "python",
   "nbconvert_exporter": "python",
   "pygments_lexer": "ipython3",
   "version": "3.6.6"
  }
 },
 "nbformat": 4,
 "nbformat_minor": 1
}
