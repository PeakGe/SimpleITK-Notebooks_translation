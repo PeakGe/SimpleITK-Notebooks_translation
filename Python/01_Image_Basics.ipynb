{
 "cells": [
  {
   "cell_type": "markdown",
   "metadata": {},
   "source": [
    "# Welcome to the first SimpleITK Notebook demo:\n",
    "# SimpleITK Image Basics\n",
    "\n",
    "本文档将简要介绍SimpleITK Image类。 首先，我们导入SimpleITK Python模块。按照惯例，我们的模块被导入更短和更Pythonic“sitk”本地名称。\n"
   ]
  },
  {
   "cell_type": "code",
   "execution_count": 3,
   "metadata": {},
   "outputs": [],
   "source": [
    "from __future__ import print_function\n",
    "%matplotlib inline\n",
    "import matplotlib.pyplot as plt\n",
    "import SimpleITK as sitk\n"
   ]
  },
  {
   "cell_type": "markdown",
   "metadata": {},
   "source": [
    "## Image Construction\n",
    "\n",
    "有多种方法可以创建图像。所有图像的初始值都很好地定义为零。"
   ]
  },
  {
   "cell_type": "code",
   "execution_count": 4,
   "metadata": {},
   "outputs": [],
   "source": [
    "image = sitk.Image(256, 128, 64, sitk.sitkInt16)\n",
    "image_2D = sitk.Image(32, 64, sitk.sitkFloat32)\n",
    "image_2D = sitk.Image([32,64], sitk.sitkUInt32)\n",
    "image_RGB = sitk.Image([128,256], sitk.sitkVectorUInt8, 3)"
   ]
  },
  {
   "cell_type": "markdown",
   "metadata": {},
   "source": [
    "### Pixel Types\n",
    "\n",
    "像素类型表示为枚举类型。以下是枚举列表的表。\n",
    "\n",
    "<table>\n",
    "  <tr><td>sitkUInt8</td><td>Unsigned 8 bit integer</td></tr>\n",
    "  <tr><td>sitkInt8</td><td>Signed 8 bit integer</td></tr>\n",
    "  <tr><td>sitkUInt16</td><td>Unsigned 16 bit integer</td></tr>\n",
    "  <tr><td>sitkInt16</td><td>Signed 16 bit integer</td></tr>\n",
    "  <tr><td>sitkUInt32</td><td>Unsigned 32 bit integer</td></tr>\n",
    "  <tr><td>sitkInt32</td><td>Signed 32 bit integer</td></tr>\n",
    "  <tr><td>sitkUInt64</td><td>Unsigned 64 bit integer</td></tr>\n",
    "  <tr><td>sitkInt64</td><td>Signed 64 bit integer</td></tr>\n",
    "  <tr><td>sitkFloat32</td><td>32 bit float</td></tr>\n",
    "  <tr><td>sitkFloat64</td><td>64 bit float</td></tr>\n",
    "  <tr><td>sitkComplexFloat32</td><td>complex number of 32 bit float</td></tr>\n",
    "  <tr><td>sitkComplexFloat64</td><td>complex number of 64 bit float</td></tr>\n",
    "  <tr><td>sitkVectorUInt8</td><td>Multi-component of unsigned 8 bit integer</td></tr>\n",
    "  <tr><td>sitkVectorInt8</td><td>Multi-component of signed 8 bit integer</td></tr>\n",
    "  <tr><td>sitkVectorUInt16</td><td>Multi-component of unsigned 16 bit integer</td></tr>\n",
    "  <tr><td>sitkVectorInt16</td><td>Multi-component of signed 16 bit integer</td></tr>\n",
    "  <tr><td>sitkVectorUInt32</td><td>Multi-component of unsigned 32 bit integer</td></tr>\n",
    "  <tr><td>sitkVectorInt32</td><td>Multi-component of signed 32 bit integer</td></tr>\n",
    "  <tr><td>sitkVectorUInt64</td><td>Multi-component of unsigned 64 bit integer</td></tr>\n",
    "  <tr><td>sitkVectorInt64</td><td>Multi-component of signed 64 bit integer</td></tr>\n",
    "  <tr><td>sitkVectorFloat32</td><td>Multi-component of 32 bit float</td></tr>\n",
    "  <tr><td>sitkVectorFloat64</td><td>Multi-component of 64 bit float</td></tr>\n",
    "  <tr><td>sitkLabelUInt8</td><td>RLE label of unsigned 8 bit integers</td></tr>\n",
    "  <tr><td>sitkLabelUInt16</td><td>RLE label of unsigned 16 bit integers</td></tr>\n",
    "  <tr><td>sitkLabelUInt32</td><td>RLE label of unsigned 32 bit integers</td></tr>\n",
    "  <tr><td>sitkLabelUInt64</td><td>RLE label of unsigned 64 bit integers</td></tr>\n",
    "</table>\n",
    "\n",
    "还有sitkUnknown，用于未定义或错误的像素ID。它的值为-1。 \n",
    "\n",
    "并非所有发行版都提供64位整数类型。如果不可用，则值为sitkUnknown。\n"
   ]
  },
  {
   "cell_type": "markdown",
   "metadata": {},
   "source": [
    "### More Information about the Image class be obtained in the Docstring\n",
    "\n",
    "\n",
    "SimpleITK类和函数具有源自C ++定义和Doxygen文档的Docstrings。"
   ]
  },
  {
   "cell_type": "code",
   "execution_count": 4,
   "metadata": {},
   "outputs": [
    {
     "name": "stdout",
     "output_type": "stream",
     "text": [
      "Help on Image in module SimpleITK.SimpleITK object:\n",
      "\n",
      "class Image(builtins.object)\n",
      " |  The Image class for SimpleITK.\n",
      " |  \n",
      " |  \n",
      " |  This Image class can represent 2D, 3D, and 4D images. The pixel types may be a\n",
      " |  scalar, a multi-component vector or a run-length-encoded (RLE)\n",
      " |  \"label\". The dimension, pixel type and size is specified at\n",
      " |  construction.\n",
      " |  \n",
      " |  A fundamental concept of ITK images is that they occupy physical space\n",
      " |  where the image is defined by an origin, spacing, and direction cosine\n",
      " |  matrix. The attributes are taken into consideration when doing most\n",
      " |  operations on an image. A meta-data dictionary is also associated with\n",
      " |  the image, which may contain additional fields from reading but these\n",
      " |  attributes are not propagated by image filters.\n",
      " |  \n",
      " |  The SimpleITK Image provides a single facade interface to several ITK image types.\n",
      " |  Internally, the SimpleITK Image maintains a pointer to the ITK image class, and performs reference\n",
      " |  counting and lazy copying. This means that deep copying of an image\n",
      " |  including it's buffer is delayed until the image is modified. This\n",
      " |  removes the need to use pointers to SimpleITK Image class, as copying and returning by value do not unnecessarily\n",
      " |  duplicate the data.\n",
      " |  \n",
      " |  /sa itk::Image itk::VectorImage itk::LabelMap itk::ImageBase\n",
      " |  \n",
      " |  C++ includes: sitkImage.h\n",
      " |  \n",
      " |  Methods defined here:\n",
      " |  \n",
      " |  CopyInformation(self, srcImage)\n",
      " |      CopyInformation(Image self, Image srcImage)\n",
      " |      \n",
      " |      \n",
      " |      \n",
      " |      Copy common meta-data from an image to this one.\n",
      " |      \n",
      " |      \n",
      " |      Copies the Origin, Spacing, and Direction from the source image to\n",
      " |      this image. The meta-data dictionary is not copied.\n",
      " |      \n",
      " |      It is required for the source Image's dimension and size to match, this image's attributes, otherwise an\n",
      " |      exception will be generated.\n",
      " |  \n",
      " |  EraseMetaData(self, key)\n",
      " |      EraseMetaData(Image self, std::string const & key) -> bool\n",
      " |      \n",
      " |      \n",
      " |      \n",
      " |      Remove an entry from the meta-data dictionary.\n",
      " |      \n",
      " |      \n",
      " |      Returns true, when the value exists in the dictionary and is removed,\n",
      " |      false otherwise.\n",
      " |  \n",
      " |  GetDepth(self)\n",
      " |      GetDepth(Image self) -> unsigned int\n",
      " |      \n",
      " |      \n",
      " |      \n",
      " |      Get the number of pixels the Image is in the third dimension or 0 if the Image is only 2D\n",
      " |  \n",
      " |  GetDimension(self)\n",
      " |      GetDimension(Image self) -> unsigned int\n",
      " |      \n",
      " |      \n",
      " |      \n",
      " |      Get the number of physical dimensions.\n",
      " |      \n",
      " |      Only the spatial dimensions are considered here. These are the\n",
      " |      dimensions the origin, spacing and direction cosine matrix are\n",
      " |      applicable to. This does not include the pixels' vector index as a\n",
      " |      dimension.\n",
      " |  \n",
      " |  GetDirection(self)\n",
      " |      GetDirection(Image self) -> VectorDouble\n",
      " |  \n",
      " |  GetHeight(self)\n",
      " |      GetHeight(Image self) -> unsigned int\n",
      " |      \n",
      " |      \n",
      " |      \n",
      " |      Get the number of pixels the Image is in the second dimension\n",
      " |  \n",
      " |  GetITKBase(self, *args)\n",
      " |      GetITKBase(Image self) -> itk::DataObject\n",
      " |      GetITKBase(Image self) -> itk::DataObject const *\n",
      " |  \n",
      " |  GetMetaData(self, key)\n",
      " |      GetMetaData(Image self, std::string const & key) -> std::string\n",
      " |      \n",
      " |      \n",
      " |      \n",
      " |      Get the value of a meta-data dictionary entry as a string.\n",
      " |      \n",
      " |      \n",
      " |      If the key is not in the dictionary then an exception is thrown.\n",
      " |      \n",
      " |      string types in the dictionary are returned as their native strings.\n",
      " |      Other types are printed to string before returning.\n",
      " |  \n",
      " |  GetMetaDataKeys(self)\n",
      " |      GetMetaDataKeys(Image self) -> VectorString\n",
      " |      \n",
      " |      \n",
      " |      \n",
      " |      get a vector of keys in from the meta-data dictionary\n",
      " |      \n",
      " |      \n",
      " |      Returns a vector of keys to the key/value entries in the image's meta-\n",
      " |      data dictionary. Iterate through with these keys to get the values.\n",
      " |  \n",
      " |  GetNumberOfComponentsPerPixel(self)\n",
      " |      GetNumberOfComponentsPerPixel(Image self) -> unsigned int\n",
      " |      \n",
      " |      \n",
      " |      \n",
      " |      Get the number of components for each pixel.\n",
      " |      \n",
      " |      \n",
      " |      For scalar images this methods returns 1. For vector images the number\n",
      " |      of components for each pixel is returned.\n",
      " |  \n",
      " |  GetNumberOfPixels(self)\n",
      " |      GetNumberOfPixels(Image self) -> uint64_t\n",
      " |      \n",
      " |      \n",
      " |      \n",
      " |      Get the number of pixels in the image.\n",
      " |      \n",
      " |      \n",
      " |      To Calculate the total number of values stored continuously for the\n",
      " |      image's buffer, the NumberOfPixels should be multiplied by\n",
      " |      NumberOfComponentsPerPixel in order to account for multiple component\n",
      " |      images.\n",
      " |  \n",
      " |  GetOrigin(self)\n",
      " |      GetOrigin(Image self) -> VectorDouble\n",
      " |  \n",
      " |  GetPixel(self, *idx)\n",
      " |      Returns the value of a pixel.\n",
      " |      \n",
      " |      This method takes 2 parameters in 2D: the x and y index,\n",
      " |      and 3 parameters in 3D: the x, y and z index.\n",
      " |  \n",
      " |  GetPixelAsComplexFloat64(self, idx)\n",
      " |      GetPixelAsComplexFloat64(Image self, VectorUInt32 idx) -> std::complex< double >\n",
      " |  \n",
      " |  GetPixelID(self)\n",
      " |      GetPixelID(Image self) -> itk::simple::PixelIDValueEnum\n",
      " |      \n",
      " |      \n",
      " |      \n",
      " |      Get the pixel type\n",
      " |      \n",
      " |      The pixel type is set at construction type and can not be manually\n",
      " |      changed, unless by assignment. The value may be -1 or \"Unknown\".\n",
      " |  \n",
      " |  GetPixelIDTypeAsString(self)\n",
      " |      GetPixelIDTypeAsString(Image self) -> std::string\n",
      " |      \n",
      " |      \n",
      " |      \n",
      " |      Return the pixel type as a human readable string value.\n",
      " |  \n",
      " |  GetPixelIDValue(self)\n",
      " |      GetPixelIDValue(Image self) -> itk::simple::PixelIDValueType\n",
      " |  \n",
      " |  GetSize(self)\n",
      " |      GetSize(Image self) -> VectorUInt32\n",
      " |      \n",
      " |      \n",
      " |      \n",
      " |      Get the number of pixels the Image is in each dimension as a std::vector. The size of the vector is\n",
      " |      equal to the number of dimensions for the image.\n",
      " |  \n",
      " |  GetSpacing(self)\n",
      " |      GetSpacing(Image self) -> VectorDouble\n",
      " |  \n",
      " |  GetWidth(self)\n",
      " |      GetWidth(Image self) -> unsigned int\n",
      " |      \n",
      " |      \n",
      " |      \n",
      " |      Get the number of pixels the Image is in the first dimension\n",
      " |  \n",
      " |  HasMetaDataKey(self, key)\n",
      " |      HasMetaDataKey(Image self, std::string const & key) -> bool\n",
      " |      \n",
      " |      \n",
      " |      \n",
      " |      Query the meta-data dictionary for the existence of a key.\n",
      " |  \n",
      " |  MakeUnique(self)\n",
      " |      MakeUnique(Image self)\n",
      " |      \n",
      " |      \n",
      " |      \n",
      " |      Performs actually coping if needed to make object unique.\n",
      " |      \n",
      " |      \n",
      " |      The Image class by default performs lazy coping and assignment. This method\n",
      " |      make sure that coping actually happens to the itk::Image pointed to is only pointed to by this object.\n",
      " |  \n",
      " |  SetDirection(self, direction)\n",
      " |      SetDirection(Image self, VectorDouble direction)\n",
      " |  \n",
      " |  SetMetaData(self, key, value)\n",
      " |      SetMetaData(Image self, std::string const & key, std::string const & value)\n",
      " |      \n",
      " |      \n",
      " |      \n",
      " |      Set an entry in the meta-data dictionary.\n",
      " |      \n",
      " |      \n",
      " |      Replaces or creates an entry in the image's meta-data dictionary.\n",
      " |  \n",
      " |  SetOrigin(self, origin)\n",
      " |      SetOrigin(Image self, VectorDouble origin)\n",
      " |  \n",
      " |  SetPixel(self, *args)\n",
      " |      Sets the value of a pixel.\n",
      " |      \n",
      " |      This method takes 3 parameters in 2D: the x and y index then the value,\n",
      " |      and 4 parameters in 3D: the x, y and z index then the value.\n",
      " |  \n",
      " |  SetPixelAsComplexFloat64(self, idx, v)\n",
      " |      SetPixelAsComplexFloat64(Image self, VectorUInt32 idx, std::complex< double > const v)\n",
      " |  \n",
      " |  SetSpacing(self, spacing)\n",
      " |      SetSpacing(Image self, VectorDouble spacing)\n",
      " |  \n",
      " |  TransformContinuousIndexToPhysicalPoint(self, index)\n",
      " |      TransformContinuousIndexToPhysicalPoint(Image self, VectorDouble index) -> VectorDouble\n",
      " |      \n",
      " |      \n",
      " |      \n",
      " |      Transform continuous index to physical point\n",
      " |  \n",
      " |  TransformIndexToPhysicalPoint(self, index)\n",
      " |      TransformIndexToPhysicalPoint(Image self, VectorInt64 index) -> VectorDouble\n",
      " |      \n",
      " |      \n",
      " |      \n",
      " |      Transform index to physical point\n",
      " |  \n",
      " |  TransformPhysicalPointToContinuousIndex(self, point)\n",
      " |      TransformPhysicalPointToContinuousIndex(Image self, VectorDouble point) -> VectorDouble\n",
      " |      \n",
      " |      \n",
      " |      \n",
      " |      Transform physical point to continuous index\n",
      " |  \n",
      " |  TransformPhysicalPointToIndex(self, point)\n",
      " |      TransformPhysicalPointToIndex(Image self, VectorDouble point) -> VectorInt64\n",
      " |      \n",
      " |      \n",
      " |      \n",
      " |      Transform physical point to index\n",
      " |  \n",
      " |  __GetPixelAsComplexFloat32__(self, idx)\n",
      " |      __GetPixelAsComplexFloat32__(Image self, VectorUInt32 idx) -> std::complex< float >\n",
      " |  \n",
      " |  __GetPixelAsDouble__(self, idx)\n",
      " |      __GetPixelAsDouble__(Image self, VectorUInt32 idx) -> double\n",
      " |  \n",
      " |  __GetPixelAsFloat__(self, idx)\n",
      " |      __GetPixelAsFloat__(Image self, VectorUInt32 idx) -> float\n",
      " |  \n",
      " |  __GetPixelAsInt16__(self, idx)\n",
      " |      __GetPixelAsInt16__(Image self, VectorUInt32 idx) -> int16_t\n",
      " |  \n",
      " |  __GetPixelAsInt32__(self, idx)\n",
      " |      __GetPixelAsInt32__(Image self, VectorUInt32 idx) -> int32_t\n",
      " |  \n",
      " |  __GetPixelAsInt64__(self, idx)\n",
      " |      __GetPixelAsInt64__(Image self, VectorUInt32 idx) -> int64_t\n",
      " |  \n",
      " |  __GetPixelAsInt8__(self, idx)\n",
      " |      __GetPixelAsInt8__(Image self, VectorUInt32 idx) -> int8_t\n",
      " |  \n",
      " |  __GetPixelAsUInt16__(self, idx)\n",
      " |      __GetPixelAsUInt16__(Image self, VectorUInt32 idx) -> uint16_t\n",
      " |  \n",
      " |  __GetPixelAsUInt32__(self, idx)\n",
      " |      __GetPixelAsUInt32__(Image self, VectorUInt32 idx) -> uint32_t\n",
      " |  \n",
      " |  __GetPixelAsUInt64__(self, idx)\n",
      " |      __GetPixelAsUInt64__(Image self, VectorUInt32 idx) -> uint64_t\n",
      " |  \n",
      " |  __GetPixelAsUInt8__(self, idx)\n",
      " |      __GetPixelAsUInt8__(Image self, VectorUInt32 idx) -> uint8_t\n",
      " |  \n",
      " |  __GetPixelAsVectorFloat32__(self, idx)\n",
      " |      __GetPixelAsVectorFloat32__(Image self, VectorUInt32 idx) -> VectorFloat\n",
      " |  \n",
      " |  __GetPixelAsVectorFloat64__(self, idx)\n",
      " |      __GetPixelAsVectorFloat64__(Image self, VectorUInt32 idx) -> VectorDouble\n",
      " |  \n",
      " |  __GetPixelAsVectorInt16__(self, idx)\n",
      " |      __GetPixelAsVectorInt16__(Image self, VectorUInt32 idx) -> VectorInt16\n",
      " |  \n",
      " |  __GetPixelAsVectorInt32__(self, idx)\n",
      " |      __GetPixelAsVectorInt32__(Image self, VectorUInt32 idx) -> VectorInt32\n",
      " |  \n",
      " |  __GetPixelAsVectorInt64__(self, idx)\n",
      " |      __GetPixelAsVectorInt64__(Image self, VectorUInt32 idx) -> VectorInt64\n",
      " |  \n",
      " |  __GetPixelAsVectorInt8__(self, idx)\n",
      " |      __GetPixelAsVectorInt8__(Image self, VectorUInt32 idx) -> VectorInt8\n",
      " |  \n",
      " |  __GetPixelAsVectorUInt16__(self, idx)\n",
      " |      __GetPixelAsVectorUInt16__(Image self, VectorUInt32 idx) -> VectorUInt16\n",
      " |  \n",
      " |  __GetPixelAsVectorUInt32__(self, idx)\n",
      " |      __GetPixelAsVectorUInt32__(Image self, VectorUInt32 idx) -> VectorUInt32\n",
      " |  \n",
      " |  __GetPixelAsVectorUInt64__(self, idx)\n",
      " |      __GetPixelAsVectorUInt64__(Image self, VectorUInt32 idx) -> VectorUInt64\n",
      " |  \n",
      " |  __GetPixelAsVectorUInt8__(self, idx)\n",
      " |      __GetPixelAsVectorUInt8__(Image self, VectorUInt32 idx) -> VectorUInt8\n",
      " |  \n",
      " |  __SetPixelAsComplexFloat32__(self, idx, v)\n",
      " |      __SetPixelAsComplexFloat32__(Image self, VectorUInt32 idx, std::complex< float > const v)\n",
      " |  \n",
      " |  __SetPixelAsDouble__(self, idx, v)\n",
      " |      __SetPixelAsDouble__(Image self, VectorUInt32 idx, double v)\n",
      " |  \n",
      " |  __SetPixelAsFloat__(self, idx, v)\n",
      " |      __SetPixelAsFloat__(Image self, VectorUInt32 idx, float v)\n",
      " |  \n",
      " |  __SetPixelAsInt16__(self, idx, v)\n",
      " |      __SetPixelAsInt16__(Image self, VectorUInt32 idx, int16_t v)\n",
      " |  \n",
      " |  __SetPixelAsInt32__(self, idx, v)\n",
      " |      __SetPixelAsInt32__(Image self, VectorUInt32 idx, int32_t v)\n",
      " |  \n",
      " |  __SetPixelAsInt64__(self, idx, v)\n",
      " |      __SetPixelAsInt64__(Image self, VectorUInt32 idx, int64_t v)\n",
      " |  \n",
      " |  __SetPixelAsInt8__(self, idx, v)\n",
      " |      __SetPixelAsInt8__(Image self, VectorUInt32 idx, int8_t v)\n",
      " |  \n",
      " |  __SetPixelAsUInt16__(self, idx, v)\n",
      " |      __SetPixelAsUInt16__(Image self, VectorUInt32 idx, uint16_t v)\n",
      " |  \n",
      " |  __SetPixelAsUInt32__(self, idx, v)\n",
      " |      __SetPixelAsUInt32__(Image self, VectorUInt32 idx, uint32_t v)\n",
      " |  \n",
      " |  __SetPixelAsUInt64__(self, idx, v)\n",
      " |      __SetPixelAsUInt64__(Image self, VectorUInt32 idx, uint64_t v)\n",
      " |  \n",
      " |  __SetPixelAsUInt8__(self, idx, v)\n",
      " |      __SetPixelAsUInt8__(Image self, VectorUInt32 idx, uint8_t v)\n",
      " |  \n",
      " |  __SetPixelAsVectorFloat32__(self, idx, v)\n",
      " |      __SetPixelAsVectorFloat32__(Image self, VectorUInt32 idx, VectorFloat v)\n",
      " |  \n",
      " |  __SetPixelAsVectorFloat64__(self, idx, v)\n",
      " |      __SetPixelAsVectorFloat64__(Image self, VectorUInt32 idx, VectorDouble v)\n",
      " |  \n",
      " |  __SetPixelAsVectorInt16__(self, idx, v)\n",
      " |      __SetPixelAsVectorInt16__(Image self, VectorUInt32 idx, VectorInt16 v)\n",
      " |  \n",
      " |  __SetPixelAsVectorInt32__(self, idx, v)\n",
      " |      __SetPixelAsVectorInt32__(Image self, VectorUInt32 idx, VectorInt32 v)\n",
      " |  \n",
      " |  __SetPixelAsVectorInt64__(self, idx, v)\n",
      " |      __SetPixelAsVectorInt64__(Image self, VectorUInt32 idx, VectorInt64 v)\n",
      " |  \n",
      " |  __SetPixelAsVectorInt8__(self, idx, v)\n",
      " |      __SetPixelAsVectorInt8__(Image self, VectorUInt32 idx, VectorInt8 v)\n",
      " |  \n",
      " |  __SetPixelAsVectorUInt16__(self, idx, v)\n",
      " |      __SetPixelAsVectorUInt16__(Image self, VectorUInt32 idx, VectorUInt16 v)\n",
      " |  \n",
      " |  __SetPixelAsVectorUInt32__(self, idx, v)\n",
      " |      __SetPixelAsVectorUInt32__(Image self, VectorUInt32 idx, VectorUInt32 v)\n",
      " |  \n",
      " |  __SetPixelAsVectorUInt64__(self, idx, v)\n",
      " |      __SetPixelAsVectorUInt64__(Image self, VectorUInt32 idx, VectorUInt64 v)\n",
      " |  \n",
      " |  __SetPixelAsVectorUInt8__(self, idx, v)\n",
      " |      __SetPixelAsVectorUInt8__(Image self, VectorUInt32 idx, VectorUInt8 v)\n",
      " |  \n",
      " |  __abs__(self)\n",
      " |  \n",
      " |  __add__(self, other)\n",
      " |  \n",
      " |  __and__(self, other)\n",
      " |  \n",
      " |  __del__ lambda self\n",
      " |  \n",
      " |  __div__(self, other)\n",
      " |  \n",
      " |  __eq__(self, other)\n",
      " |      Return self==value.\n",
      " |  \n",
      " |  __floordiv__(self, other)\n",
      " |  \n",
      " |  __ge__(self, other)\n",
      " |      Return self>=value.\n",
      " |  \n",
      " |  __getattr__ lambda self, name\n",
      " |  \n",
      " |  __getitem__(self, idx)\n",
      " |      Get an pixel value or a sliced image.\n",
      " |      \n",
      " |      This operator implements basic indexing where idx is\n",
      " |      arguments or a squence of integers the same dimension as\n",
      " |      the image. The result will be a pixel value from that\n",
      " |      index.\n",
      " |      \n",
      " |      Multi-dimension extended slice based indexing is also\n",
      " |      implemented. The return is a copy of a new image. The\n",
      " |      standard sliced based indices are supported including\n",
      " |      negative indices, to indicate location relative to the\n",
      " |      end, along with negative step sized to indicate reversing\n",
      " |      of direction.\n",
      " |      \n",
      " |      If the length of idx is less than the number of dimension\n",
      " |      of the image it will be padded with the defaults slice\n",
      " |      \":\".\n",
      " |      \n",
      " |      A 2D image can be extracted from a 3D image by providing\n",
      " |      one argument being an integer instead of a slice.\n",
      " |  \n",
      " |  __gt__(self, other)\n",
      " |      Return self>value.\n",
      " |  \n",
      " |  __iadd__(self, other)\n",
      " |      # NOTE: the __i*__ methods are not implemented because there\n",
      " |      # currently in no way to make the underlying filters run\n",
      " |      # inplace. But python will implement a default version based\n",
      " |      # on the standard method\n",
      " |  \n",
      " |  __init__(self, *args)\n",
      " |      __init__(itk::simple::Image self) -> Image\n",
      " |      __init__(itk::simple::Image self, Image img) -> Image\n",
      " |      __init__(itk::simple::Image self, unsigned int width, unsigned int height, itk::simple::PixelIDValueEnum valueEnum) -> Image\n",
      " |      __init__(itk::simple::Image self, unsigned int width, unsigned int height, unsigned int depth, itk::simple::PixelIDValueEnum valueEnum) -> Image\n",
      " |      __init__(itk::simple::Image self, VectorUInt32 size, itk::simple::PixelIDValueEnum valueEnum, unsigned int numberOfComponents=0) -> Image\n",
      " |  \n",
      " |  __invert__(self)\n",
      " |  \n",
      " |  __iter__(self)\n",
      " |  \n",
      " |  __le__(self, other)\n",
      " |      Return self<=value.\n",
      " |  \n",
      " |  __len__(self)\n",
      " |  \n",
      " |  __lt__(self, other)\n",
      " |      Return self<value.\n",
      " |  \n",
      " |  __mod__(self, other)\n",
      " |  \n",
      " |  __mul__(self, other)\n",
      " |  \n",
      " |  __ne__(self, other)\n",
      " |      Return self!=value.\n",
      " |  \n",
      " |  __neg__(self)\n",
      " |  \n",
      " |  __or__(self, other)\n",
      " |  \n",
      " |  __pos__(self)\n",
      " |  \n",
      " |  __pow__(self, other)\n",
      " |  \n",
      " |  __radd__(self, other)\n",
      " |  \n",
      " |  __rand__(self, other)\n",
      " |  \n",
      " |  __rdiv__(self, other)\n",
      " |  \n",
      " |  __repr__ = _swig_repr(self)\n",
      " |  \n",
      " |  __rfloordiv__(self, other)\n",
      " |  \n",
      " |  __rmul__(self, other)\n",
      " |  \n",
      " |  __ror__(self, other)\n",
      " |  \n",
      " |  __rpow__(self, other)\n",
      " |  \n",
      " |  __rsub__(self, other)\n",
      " |  \n",
      " |  __rtruediv__(self, other)\n",
      " |  \n",
      " |  __rxor__(self, other)\n",
      " |  \n",
      " |  __setattr__ lambda self, name, value\n",
      " |  \n",
      " |  __setitem__(self, idx, value)\n",
      " |      Sets the pixel value at index idx to value.\n",
      " |      \n",
      " |      The dimension of idx should match that of the image.\n",
      " |  \n",
      " |  __str__(self)\n",
      " |      __str__(Image self) -> std::string\n",
      " |  \n",
      " |  __sub__(self, other)\n",
      " |  \n",
      " |  __swig_destroy__ = delete_Image(...)\n",
      " |      delete_Image(Image self)\n",
      " |  \n",
      " |  __truediv__(self, other)\n",
      " |  \n",
      " |  __xor__(self, other)\n",
      " |  \n",
      " |  ----------------------------------------------------------------------\n",
      " |  Data descriptors defined here:\n",
      " |  \n",
      " |  __dict__\n",
      " |      dictionary for instance variables (if defined)\n",
      " |  \n",
      " |  __weakref__\n",
      " |      list of weak references to the object (if defined)\n",
      " |  \n",
      " |  ----------------------------------------------------------------------\n",
      " |  Data and other attributes defined here:\n",
      " |  \n",
      " |  __hash__ = None\n",
      " |  \n",
      " |  __swig_getmethods__ = {}\n",
      " |  \n",
      " |  __swig_setmethods__ = {}\n",
      "\n"
     ]
    }
   ],
   "source": [
    "help(image)"
   ]
  },
  {
   "cell_type": "markdown",
   "metadata": {},
   "source": [
    "## Accessing Attributes\n",
    "\n",
    "如果您熟悉ITK，那么这些方法将遵循您的期望："
   ]
  },
  {
   "cell_type": "code",
   "execution_count": 5,
   "metadata": {},
   "outputs": [
    {
     "name": "stdout",
     "output_type": "stream",
     "text": [
      "(256, 128, 64)\n",
      "(0.0, 0.0, 0.0)\n",
      "(1.0, 1.0, 1.0)\n",
      "(1.0, 0.0, 0.0, 0.0, 1.0, 0.0, 0.0, 0.0, 1.0)\n",
      "1\n"
     ]
    }
   ],
   "source": [
    "print(image.GetSize())\n",
    "print(image.GetOrigin())\n",
    "print(image.GetSpacing())\n",
    "print(image.GetDirection())\n",
    "print(image.GetNumberOfComponentsPerPixel())"
   ]
  },
  {
   "cell_type": "markdown",
   "metadata": {},
   "source": [
    "注意：SimpleITK图像的起始索引始终为0.如果ITK过滤器的输出具有非零起始索引，则索引将设置为0，并相应地调整原点。 \n",
    "\n",
    "图像尺寸的大小具有显式访问者：\n",
    "\n",
    "**3D图像: GetSize()获取到的元组:(Width,Height,Depth)**"
   ]
  },
  {
   "cell_type": "code",
   "execution_count": 6,
   "metadata": {},
   "outputs": [
    {
     "name": "stdout",
     "output_type": "stream",
     "text": [
      "256\n",
      "128\n",
      "64\n"
     ]
    }
   ],
   "source": [
    "print(image.GetWidth())\n",
    "print(image.GetHeight())\n",
    "print(image.GetDepth())"
   ]
  },
  {
   "cell_type": "markdown",
   "metadata": {},
   "source": [
    "由于SimpleITK图像的维度和像素类型是在运行时确定的，因此需要访问器。"
   ]
  },
  {
   "cell_type": "code",
   "execution_count": 7,
   "metadata": {},
   "outputs": [
    {
     "name": "stdout",
     "output_type": "stream",
     "text": [
      "3\n",
      "2\n",
      "16-bit signed integer\n"
     ]
    }
   ],
   "source": [
    "print(image.GetDimension())\n",
    "print(image.GetPixelIDValue())\n",
    "print(image.GetPixelIDTypeAsString())"
   ]
  },
  {
   "cell_type": "markdown",
   "metadata": {},
   "source": [
    "What is the depth of a 2D image?\n",
    "**2D图像: GetSize()获取到的元组:(Width,Height)**"
   ]
  },
  {
   "cell_type": "code",
   "execution_count": 11,
   "metadata": {},
   "outputs": [
    {
     "name": "stdout",
     "output_type": "stream",
     "text": [
      "(32, 64)\n",
      "32\n",
      "64\n",
      "0\n"
     ]
    }
   ],
   "source": [
    "print(image_2D.GetSize())\n",
    "print(image_2D.GetWidth())\n",
    "print(image_2D.GetHeight())\n",
    "print(image_2D.GetDepth())"
   ]
  },
  {
   "cell_type": "markdown",
   "metadata": {},
   "source": [
    "矢量图像的尺寸和大小是多少？"
   ]
  },
  {
   "cell_type": "code",
   "execution_count": 12,
   "metadata": {},
   "outputs": [
    {
     "name": "stdout",
     "output_type": "stream",
     "text": [
      "2\n",
      "(128, 256)\n"
     ]
    }
   ],
   "source": [
    "print(image_RGB.GetDimension())\n",
    "print(image_RGB.GetSize())"
   ]
  },
  {
   "cell_type": "code",
   "execution_count": 13,
   "metadata": {},
   "outputs": [
    {
     "name": "stdout",
     "output_type": "stream",
     "text": [
      "3\n"
     ]
    }
   ],
   "source": [
    "print(image_RGB.GetNumberOfComponentsPerPixel())"
   ]
  },
  {
   "cell_type": "markdown",
   "metadata": {},
   "source": [
    "对于某些文件类型（如DICOM），有关图像的其他信息包含在元数据字典中。"
   ]
  },
  {
   "cell_type": "code",
   "execution_count": 14,
   "metadata": {},
   "outputs": [],
   "source": [
    "for key in image.GetMetaDataKeys():\n",
    "        print(\"\\\"{0}\\\":\\\"{1}\\\"\".format(key, image.GetMetaData(key)))"
   ]
  },
  {
   "cell_type": "markdown",
   "metadata": {},
   "source": [
    "## Accessing Pixels\n",
    "\n",
    "有成员函数GetPixel和SetPixel，它为像素访问提供类似ITK的接口。"
   ]
  },
  {
   "cell_type": "code",
   "execution_count": 16,
   "metadata": {},
   "outputs": [
    {
     "name": "stdout",
     "output_type": "stream",
     "text": [
      "Help on method GetPixel in module SimpleITK.SimpleITK:\n",
      "\n",
      "GetPixel(*idx) method of SimpleITK.SimpleITK.Image instance\n",
      "    Returns the value of a pixel.\n",
      "    \n",
      "    This method takes 2 parameters in 2D: the x and y index,\n",
      "    and 3 parameters in 3D: the x, y and z index.\n",
      "\n",
      "Help on method SetPixel in module SimpleITK.SimpleITK:\n",
      "\n",
      "SetPixel(*args) method of SimpleITK.SimpleITK.Image instance\n",
      "    Sets the value of a pixel.\n",
      "    \n",
      "    This method takes 3 parameters in 2D: the x and y index then the value,\n",
      "    and 4 parameters in 3D: the x, y and z index then the value.\n",
      "\n"
     ]
    }
   ],
   "source": [
    "help(image.GetPixel)\n",
    "help(image.SetPixel)"
   ]
  },
  {
   "cell_type": "code",
   "execution_count": 17,
   "metadata": {},
   "outputs": [
    {
     "name": "stdout",
     "output_type": "stream",
     "text": [
      "0\n",
      "1\n"
     ]
    }
   ],
   "source": [
    "print(image.GetPixel(0, 0, 0))\n",
    "image.SetPixel(0, 0, 0, 1)\n",
    "print(image.GetPixel(0, 0, 0))"
   ]
  },
  {
   "cell_type": "code",
   "execution_count": 18,
   "metadata": {},
   "outputs": [
    {
     "name": "stdout",
     "output_type": "stream",
     "text": [
      "1\n",
      "10\n"
     ]
    }
   ],
   "source": [
    "print(image[0,0,0])\n",
    "image[0,0,0] = 10\n",
    "print(image[0,0,0])"
   ]
  },
  {
   "cell_type": "markdown",
   "metadata": {},
   "source": [
    "## Conversion between numpy and SimpleITK"
   ]
  },
  {
   "cell_type": "code",
   "execution_count": 5,
   "metadata": {},
   "outputs": [
    {
     "name": "stdout",
     "output_type": "stream",
     "text": [
      "[[[0 0 0 ... 0 0 0]\n",
      "  [0 0 0 ... 0 0 0]\n",
      "  [0 0 0 ... 0 0 0]\n",
      "  ...\n",
      "  [0 0 0 ... 0 0 0]\n",
      "  [0 0 0 ... 0 0 0]\n",
      "  [0 0 0 ... 0 0 0]]\n",
      "\n",
      " [[0 0 0 ... 0 0 0]\n",
      "  [0 0 0 ... 0 0 0]\n",
      "  [0 0 0 ... 0 0 0]\n",
      "  ...\n",
      "  [0 0 0 ... 0 0 0]\n",
      "  [0 0 0 ... 0 0 0]\n",
      "  [0 0 0 ... 0 0 0]]\n",
      "\n",
      " [[0 0 0 ... 0 0 0]\n",
      "  [0 0 0 ... 0 0 0]\n",
      "  [0 0 0 ... 0 0 0]\n",
      "  ...\n",
      "  [0 0 0 ... 0 0 0]\n",
      "  [0 0 0 ... 0 0 0]\n",
      "  [0 0 0 ... 0 0 0]]\n",
      "\n",
      " ...\n",
      "\n",
      " [[0 0 0 ... 0 0 0]\n",
      "  [0 0 0 ... 0 0 0]\n",
      "  [0 0 0 ... 0 0 0]\n",
      "  ...\n",
      "  [0 0 0 ... 0 0 0]\n",
      "  [0 0 0 ... 0 0 0]\n",
      "  [0 0 0 ... 0 0 0]]\n",
      "\n",
      " [[0 0 0 ... 0 0 0]\n",
      "  [0 0 0 ... 0 0 0]\n",
      "  [0 0 0 ... 0 0 0]\n",
      "  ...\n",
      "  [0 0 0 ... 0 0 0]\n",
      "  [0 0 0 ... 0 0 0]\n",
      "  [0 0 0 ... 0 0 0]]\n",
      "\n",
      " [[0 0 0 ... 0 0 0]\n",
      "  [0 0 0 ... 0 0 0]\n",
      "  [0 0 0 ... 0 0 0]\n",
      "  ...\n",
      "  [0 0 0 ... 0 0 0]\n",
      "  [0 0 0 ... 0 0 0]\n",
      "  [0 0 0 ... 0 0 0]]]\n"
     ]
    }
   ],
   "source": [
    "nda = sitk.GetArrayFromImage(image)\n",
    "print(nda)"
   ]
  },
  {
   "cell_type": "code",
   "execution_count": 6,
   "metadata": {},
   "outputs": [
    {
     "name": "stdout",
     "output_type": "stream",
     "text": [
      "Help on function GetArrayFromImage in module SimpleITK.SimpleITK:\n",
      "\n",
      "GetArrayFromImage(image)\n",
      "    Get a NumPy ndarray from a SimpleITK Image.\n",
      "    \n",
      "    This is a deep copy of the image buffer and is completely safe and without potential side effects.\n",
      "\n"
     ]
    }
   ],
   "source": [
    "help(sitk.GetArrayFromImage)"
   ]
  },
  {
   "cell_type": "code",
   "execution_count": 7,
   "metadata": {},
   "outputs": [],
   "source": [
    "# Get a view of the image data as a numpy array, useful for display\n",
    "nda = sitk.GetArrayViewFromImage(image)"
   ]
  },
  {
   "cell_type": "code",
   "execution_count": 8,
   "metadata": {},
   "outputs": [
    {
     "data": {
      "text/plain": [
       "(3, 128, 256)"
      ]
     },
     "execution_count": 8,
     "metadata": {},
     "output_type": "execute_result"
    }
   ],
   "source": [
    "nda = sitk.GetArrayFromImage(image_RGB)\n",
    "img = sitk.GetImageFromArray(nda)\n",
    "img.GetSize()"
   ]
  },
  {
   "cell_type": "code",
   "execution_count": 9,
   "metadata": {},
   "outputs": [
    {
     "name": "stdout",
     "output_type": "stream",
     "text": [
      "Help on function GetImageFromArray in module SimpleITK.SimpleITK:\n",
      "\n",
      "GetImageFromArray(arr, isVector=None)\n",
      "    Get a SimpleITK Image from a numpy array. If isVector is True, then the Image will have a Vector pixel type, and the last dimension of the array will be considered the component index. By default when isVector is None, 4D images are automatically considered 3D vector images.\n",
      "\n"
     ]
    }
   ],
   "source": [
    "help(sitk.GetImageFromArray)"
   ]
  },
  {
   "cell_type": "code",
   "execution_count": 10,
   "metadata": {},
   "outputs": [
    {
     "name": "stdout",
     "output_type": "stream",
     "text": [
      "VectorImage (00000265BFC38AD0)\n",
      "  RTTI typeinfo:   class itk::VectorImage<unsigned char,2>\n",
      "  Reference Count: 1\n",
      "  Modified Time: 803\n",
      "  Debug: Off\n",
      "  Object Name: \n",
      "  Observers: \n",
      "    none\n",
      "  Source: (none)\n",
      "  Source output name: (none)\n",
      "  Release Data: Off\n",
      "  Data Released: False\n",
      "  Global Release Data: Off\n",
      "  PipelineMTime: 0\n",
      "  UpdateMTime: 0\n",
      "  RealTimeStamp: 0 seconds \n",
      "  LargestPossibleRegion: \n",
      "    Dimension: 2\n",
      "    Index: [0, 0]\n",
      "    Size: [128, 256]\n",
      "  BufferedRegion: \n",
      "    Dimension: 2\n",
      "    Index: [0, 0]\n",
      "    Size: [128, 256]\n",
      "  RequestedRegion: \n",
      "    Dimension: 2\n",
      "    Index: [0, 0]\n",
      "    Size: [128, 256]\n",
      "  Spacing: [1, 1]\n",
      "  Origin: [0, 0]\n",
      "  Direction: \n",
      "1 0\n",
      "0 1\n",
      "\n",
      "  IndexToPointMatrix: \n",
      "1 0\n",
      "0 1\n",
      "\n",
      "  PointToIndexMatrix: \n",
      "1 0\n",
      "0 1\n",
      "\n",
      "  Inverse Direction: \n",
      "1 0\n",
      "0 1\n",
      "\n",
      "  VectorLength: 3\n",
      "  PixelContainer: \n",
      "    ImportImageContainer (00000265C2F29FF0)\n",
      "      RTTI typeinfo:   class itk::ImportImageContainer<unsigned __int64,unsigned char>\n",
      "      Reference Count: 1\n",
      "      Modified Time: 804\n",
      "      Debug: Off\n",
      "      Object Name: \n",
      "      Observers: \n",
      "        none\n",
      "      Pointer: 00000265C30F8070\n",
      "      Container manages memory: true\n",
      "      Size: 98304\n",
      "      Capacity: 98304\n",
      "\n"
     ]
    }
   ],
   "source": [
    "img = sitk.GetImageFromArray(nda, isVector=True)\n",
    "print(img)"
   ]
  },
  {
   "cell_type": "markdown",
   "metadata": {},
   "source": [
    "## The order of index and dimensions need careful attention during conversion\n",
    "\n",
    "ITK的image类没有括号运算符。它有一个GetPixel以ITK索引对象作为参数,顺序为(x, y, z)。这是SimpleITK的Image类用于GetPixel方法和切片运算符的约定。 在numpy中，数组以**相反的**顺序``（z，y，x）``编入索引。 另请注意，对通道的访问是不同的。 **在SimpleITK中，您不可以直接访问通道**，而是返回表示特定像素的所有通道的像素值，然后您可以访问该像素的通道。 **在numpy数组中，您将直接访问该通道。**\n",
    "\n",
    "总结:\n",
    "\n",
    "- ITK 的image类位置索引顺序(W,H)/(W,H,D)与其对应的numpy数组位置索引顺序(H,W)/(D,H,W)相反\n",
    "- ITK 的image类不可以直接访问通道，需要先获取索引位置再访问通道，在numpy数组中，您将直接访问该通道"
   ]
  },
  {
   "cell_type": "code",
   "execution_count": 11,
   "metadata": {},
   "outputs": [
    {
     "name": "stdout",
     "output_type": "stream",
     "text": [
      "Image size: (2, 4, 8)\n",
      "Numpy array size: (8, 4, 2, 5)\n",
      "First channel value in image: 0.1479833424091339\n",
      "First channel value in numpy array: 0.14798334\n"
     ]
    }
   ],
   "source": [
    "import numpy as np\n",
    "\n",
    "multi_channel_3Dimage = sitk.Image([2,4,8], sitk.sitkVectorFloat32, 5)\n",
    "x = multi_channel_3Dimage.GetWidth() - 1\n",
    "y = multi_channel_3Dimage.GetHeight() - 1\n",
    "z = multi_channel_3Dimage.GetDepth() - 1\n",
    "\n",
    "multi_channel_3Dimage[x,y,z] = np.random.random(multi_channel_3Dimage.GetNumberOfComponentsPerPixel())\n",
    "\n",
    "nda = sitk.GetArrayFromImage(multi_channel_3Dimage)\n",
    "\n",
    "print(\"Image size: \" + str(multi_channel_3Dimage.GetSize()))\n",
    "print(\"Numpy array size: \" + str(nda.shape))\n",
    "\n",
    "# Notice the index order and channel access are different:\n",
    "print(\"First channel value in image: \" + str(multi_channel_3Dimage[x,y,z][0]))\n",
    "print(\"First channel value in numpy array: \" + str(nda[z,y,x,0]))"
   ]
  },
  {
   "cell_type": "markdown",
   "metadata": {},
   "source": [
    "\n",
    "### Are we still dealing with Image, because I haven't seen one yet...\n",
    "\n",
    "虽然SimpleITK不进行可视化，但它确实包含内置的Show方法。 此函数将图像写入磁盘，然后启动程序以进行可视化。 默认情况下，它配置为使用ImageJ，因为它很容易支持SimpleITK具有的所有图像类型并且加载速度非常快。 但是，它可以通过设置环境变量轻松定制。"
   ]
  },
  {
   "cell_type": "code",
   "execution_count": 12,
   "metadata": {
    "simpleitk_error_allowed": "Exception thrown in SimpleITK Show:"
   },
   "outputs": [
    {
     "ename": "RuntimeError",
     "evalue": "Exception thrown in SimpleITK Show: C:\\d\\VS14-Win64-pkg\\SimpleITK\\Code\\IO\\src\\sitkShow.cxx:495:\nsitk::ERROR: No appropriate executable found.",
     "output_type": "error",
     "traceback": [
      "\u001b[1;31m---------------------------------------------------------------------------\u001b[0m",
      "\u001b[1;31mRuntimeError\u001b[0m                              Traceback (most recent call last)",
      "\u001b[1;32m<ipython-input-12-551e5a6e0bae>\u001b[0m in \u001b[0;36m<module>\u001b[1;34m()\u001b[0m\n\u001b[1;32m----> 1\u001b[1;33m \u001b[0msitk\u001b[0m\u001b[1;33m.\u001b[0m\u001b[0mShow\u001b[0m\u001b[1;33m(\u001b[0m\u001b[0mimage\u001b[0m\u001b[1;33m)\u001b[0m\u001b[1;33m\u001b[0m\u001b[0m\n\u001b[0m",
      "\u001b[1;32mF:\\Anaconda3\\envs\\py36\\lib\\site-packages\\SimpleITK\\SimpleITK.py\u001b[0m in \u001b[0;36mShow\u001b[1;34m(*args, **kwargs)\u001b[0m\n\u001b[0;32m   7885\u001b[0m \u001b[1;33m\u001b[0m\u001b[0m\n\u001b[0;32m   7886\u001b[0m     \"\"\"\n\u001b[1;32m-> 7887\u001b[1;33m     \u001b[1;32mreturn\u001b[0m \u001b[0m_SimpleITK\u001b[0m\u001b[1;33m.\u001b[0m\u001b[0mShow\u001b[0m\u001b[1;33m(\u001b[0m\u001b[1;33m*\u001b[0m\u001b[0margs\u001b[0m\u001b[1;33m,\u001b[0m \u001b[1;33m**\u001b[0m\u001b[0mkwargs\u001b[0m\u001b[1;33m)\u001b[0m\u001b[1;33m\u001b[0m\u001b[0m\n\u001b[0m\u001b[0;32m   7888\u001b[0m \u001b[1;32mclass\u001b[0m \u001b[0mImageFileWriter\u001b[0m\u001b[1;33m(\u001b[0m\u001b[0mProcessObject\u001b[0m\u001b[1;33m)\u001b[0m\u001b[1;33m:\u001b[0m\u001b[1;33m\u001b[0m\u001b[0m\n\u001b[0;32m   7889\u001b[0m     \"\"\"\n",
      "\u001b[1;31mRuntimeError\u001b[0m: Exception thrown in SimpleITK Show: C:\\d\\VS14-Win64-pkg\\SimpleITK\\Code\\IO\\src\\sitkShow.cxx:495:\nsitk::ERROR: No appropriate executable found."
     ]
    }
   ],
   "source": [
    "sitk.Show(image)"
   ]
  },
  {
   "cell_type": "code",
   "execution_count": 13,
   "metadata": {},
   "outputs": [],
   "source": [
    "sitk.Show?"
   ]
  },
  {
   "cell_type": "markdown",
   "metadata": {},
   "source": [
    "By converting into a numpy array, matplotlib can be used for visualization for integration into the scientific python environment."
   ]
  },
  {
   "cell_type": "code",
   "execution_count": 14,
   "metadata": {},
   "outputs": [],
   "source": [
    "%matplotlib inline\n",
    "import matplotlib.pyplot as plt"
   ]
  },
  {
   "cell_type": "code",
   "execution_count": 18,
   "metadata": {},
   "outputs": [
    {
     "data": {
      "text/plain": [
       "<matplotlib.image.AxesImage at 0x265c673af28>"
      ]
     },
     "execution_count": 18,
     "metadata": {},
     "output_type": "execute_result"
    },
    {
     "data": {
      "image/png": "[encoded data removed]",
      "text/plain": [
       "<Figure size 432x288 with 1 Axes>"
      ]
     },
     "metadata": {
      "needs_background": "light"
     },
     "output_type": "display_data"
    }
   ],
   "source": [
    "z = 0\n",
    "slice = sitk.GetArrayViewFromImage(image)[z,:,:]\n",
    "plt.imshow(slice)"
   ]
  }
 ],
 "metadata": {
  "anaconda-cloud": {},
  "kernelspec": {
   "display_name": "Python 3",
   "language": "python",
   "name": "python3"
  },
  "language_info": {
   "codemirror_mode": {
    "name": "ipython",
    "version": 3
   },
   "file_extension": ".py",
   "mimetype": "text/x-python",
   "name": "python",
   "nbconvert_exporter": "python",
   "pygments_lexer": "ipython3",
   "version": "3.6.6"
  }
 },
 "nbformat": 4,
 "nbformat_minor": 1
}
